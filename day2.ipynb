{
 "cells": [
  {
   "cell_type": "markdown",
   "id": "2f55455b",
   "metadata": {},
   "source": [
    "#### 튜플은 다음과 같이 여러가지 모습으로 생성할 수 있다."
   ]
  },
  {
   "cell_type": "code",
   "execution_count": 4,
   "id": "25c2a7b1",
   "metadata": {},
   "outputs": [],
   "source": [
    "t1 = () # 빈 튜플생성\n",
    "t2 = (1,) # 원소가 하나 뿐일땐 무조건 콤마 하나 붙여야 함\n",
    "t3 = (1, 2, 3)\n",
    "t4 = 1, 2, 3 # 소괄호가 없어도 알아서 튜플로 정의됨\n",
    "t5 = ('a', 'b', ('ab', 'cd')) # 이중구조 가능"
   ]
  },
  {
   "cell_type": "code",
   "execution_count": 5,
   "id": "7b7b538e",
   "metadata": {},
   "outputs": [
    {
     "data": {
      "text/plain": [
       "'cd'"
      ]
     },
     "execution_count": 5,
     "metadata": {},
     "output_type": "execute_result"
    }
   ],
   "source": [
    "# 인덱싱 슬라이싱 가능 --> 순서가 있는 자료구조이므로\n",
    "t5[2][1]"
   ]
  },
  {
   "cell_type": "code",
   "execution_count": 6,
   "id": "591559c4",
   "metadata": {},
   "outputs": [
    {
     "data": {
      "text/plain": [
       "(1, 2, 3, 4, 5, 6)"
      ]
     },
     "execution_count": 6,
     "metadata": {},
     "output_type": "execute_result"
    }
   ],
   "source": [
    "# 튜플 합칠 때 새로운 자료구조에 할 것\n",
    "tuple1 = (1, 2, 3)\n",
    "tuple2 = (4, 5, 6)\n",
    "result = tuple1 + tuple2\n",
    "result"
   ]
  },
  {
   "cell_type": "code",
   "execution_count": 18,
   "id": "a3482436",
   "metadata": {},
   "outputs": [
    {
     "data": {
      "text/plain": [
       "86.6"
      ]
     },
     "execution_count": 18,
     "metadata": {},
     "output_type": "execute_result"
    }
   ],
   "source": [
    "'''\n",
    "튜플의 길이 구하기 (리스트도 가능)\n",
    "len() 함수를 사용함\n",
    "quiz : len 함수를 써서 my_tuple의 평균을 구해 보세요\n",
    "'''\n",
    "\n",
    "my_tuple = (100, 90, 87, 69, 87)\n",
    "tuple1 = (1, 2, 3)\n",
    "len(tuple1)\n",
    "len(my_tuple)\n",
    "\n",
    "# mt1 = my_tuple[0]\n",
    "# mt2 = my_tuple[1]\n",
    "# mt3 = my_tuple[2]\n",
    "# mt4 = my_tuple[3]\n",
    "# mt5 = my_tuple[4]\n",
    "\n",
    "# mt_result = mt1 + mt2 + mt3 + mt4 + mt5 \n",
    "# result = mt_result / len(my_tuple)\n",
    "\n",
    "# result\n",
    "\n",
    "sum(my_tuple) / len(my_tuple)\n"
   ]
  },
  {
   "cell_type": "code",
   "execution_count": 19,
   "id": "91b7f21f",
   "metadata": {},
   "outputs": [
    {
     "data": {
      "text/plain": [
       "(3, 4, 3, 4, 3, 4)"
      ]
     },
     "execution_count": 19,
     "metadata": {},
     "output_type": "execute_result"
    }
   ],
   "source": [
    "# +, * 는 문자열 데이터와 같다\n",
    "t2 = (3,4)\n",
    "t3 = t2 * 3\n",
    "t3"
   ]
  },
  {
   "cell_type": "markdown",
   "id": "8bb2c4db",
   "metadata": {},
   "source": [
    "자료구조의 특성에 따라 사용할 수 있는 내장함수가 달라진다.\n",
    "\n",
    "튜플은 요솟값을 변경 할 수 없기 때문에 sort, insert, remove, pop과 같은 내장 함수가 없다."
   ]
  },
  {
   "cell_type": "markdown",
   "id": "354f0903",
   "metadata": {},
   "source": [
    "딕셔너리에 대해 알아보겠습니다."
   ]
  },
  {
   "cell_type": "markdown",
   "id": "15e94bce",
   "metadata": {},
   "source": [
    "\"이름\" = \"홍길동\", \" 생일\" = \"몇 월 며칠\"\n",
    "이런 식으로 데이터의 타이틀과 데이터에 대한 대응관계를 나타낼 수 있다.\n",
    " '연관 배열(associative array)' 또는 '해시(hash)' 라고도 한다."
   ]
  },
  {
   "cell_type": "code",
   "execution_count": 35,
   "id": "f75008d6",
   "metadata": {},
   "outputs": [
    {
     "data": {
      "text/plain": [
       "5"
      ]
     },
     "execution_count": 35,
     "metadata": {},
     "output_type": "execute_result"
    }
   ],
   "source": [
    "# 인덱싱으로 데이터를 불러오지 않는다. 키 값으로만 데이터를 불러와야햔다.\n",
    "# 딕셔너리는 중괄호를 사용하고 key & value 값을 정의해주면 된다.\n",
    "\n",
    "my_dict = {'apple': 2, 'banana' : 3, 'cherry': 5}\n",
    "my_dict['cherry']"
   ]
  },
  {
   "cell_type": "markdown",
   "id": "a18eee28",
   "metadata": {},
   "source": [
    "#### 딕셔너리는 리스트나 튜플처럼 순차적으로(sequential) 해당 요솟값을 구하지 않고 Key를 통해 Value를 얻는다. cherry에 있는 데이터는 cherry라는 단어가 있는 곳만 펼쳐본다."
   ]
  },
  {
   "cell_type": "code",
   "execution_count": 36,
   "id": "228ecb17",
   "metadata": {},
   "outputs": [
    {
     "data": {
      "text/plain": [
       "{'apple': [2, 66, 45, 57], 'banana': 3, 'cherry': 5, 'pine_tree': 777}"
      ]
     },
     "execution_count": 36,
     "metadata": {},
     "output_type": "execute_result"
    }
   ],
   "source": [
    "# 한 Key 안에 복수의 값이 허용됨 (그래서 value로 key 인덱스 안됨)\n",
    "my_dict = {'apple': [2, 66, 45, 57], 'banana': 3, 'cherry': 5}\n",
    "# 딕셔너리에서 데이터 추가\n",
    "my_dict['pine_tree'] = 777\n",
    "my_dict"
   ]
  },
  {
   "cell_type": "code",
   "execution_count": 37,
   "id": "b7b56f4c",
   "metadata": {},
   "outputs": [
    {
     "data": {
      "text/plain": [
       "{1: 'a', 2: 'b', 'name': 'keys', 3: [1, 2, 3]}"
      ]
     },
     "execution_count": 37,
     "metadata": {},
     "output_type": "execute_result"
    }
   ],
   "source": [
    "a = {1: 'a', 2: 'b', 'name': 'keys'}\n",
    "# 딕셔너리에서 데이터 배열 추가\n",
    "a[3] = [1,2,3]\n",
    "a"
   ]
  },
  {
   "cell_type": "markdown",
   "id": "3258144d",
   "metadata": {},
   "source": [
    "#### 리스트나 튜플, 문자열은 요솟값을 얻고자 할 때 인덱싱이나 슬라이싱 기법 중 하나를 사용했다."
   ]
  },
  {
   "cell_type": "code",
   "execution_count": 38,
   "id": "1dd0b155",
   "metadata": {},
   "outputs": [
    {
     "data": {
      "text/plain": [
       "'전자'"
      ]
     },
     "execution_count": 38,
     "metadata": {},
     "output_type": "execute_result"
    }
   ],
   "source": [
    "a = \"삼성전자\"\n",
    "a[2]+a[3]\n",
    "a[2:4]"
   ]
  },
  {
   "cell_type": "markdown",
   "id": "9bf45189",
   "metadata": {},
   "source": [
    "#### 딕셔너리는 안됨, 아래는 예시입니다"
   ]
  },
  {
   "cell_type": "code",
   "execution_count": 40,
   "id": "c1dbde2f",
   "metadata": {},
   "outputs": [
    {
     "data": {
      "text/plain": [
       "'a'"
      ]
     },
     "execution_count": 40,
     "metadata": {},
     "output_type": "execute_result"
    }
   ],
   "source": [
    "a = {1: 'a', 2: 'b'}\n",
    "a[1] # 두번째 원소접근과 아무 상관없음. 1이란 key값의 value인 'a'를 가져옴"
   ]
  },
  {
   "cell_type": "markdown",
   "id": "baf4e08f",
   "metadata": {},
   "source": [
    "key 값은 반드시 고유값이어야 함. 중복값을 지정하면 나머지값 무시됨"
   ]
  },
  {
   "cell_type": "code",
   "execution_count": 41,
   "id": "3f2fe32b",
   "metadata": {},
   "outputs": [
    {
     "data": {
      "text/plain": [
       "'b'"
      ]
     },
     "execution_count": 41,
     "metadata": {},
     "output_type": "execute_result"
    }
   ],
   "source": [
    "a =  {1: 'a', 1: 'b'}\n",
    "a[1] # 1: 'a' 쌍은 무시되었음"
   ]
  },
  {
   "cell_type": "code",
   "execution_count": 42,
   "id": "54e4ec81",
   "metadata": {},
   "outputs": [
    {
     "ename": "TypeError",
     "evalue": "unhashable type: 'list'",
     "output_type": "error",
     "traceback": [
      "\u001b[1;31m---------------------------------------------------------------------------\u001b[0m",
      "\u001b[1;31mTypeError\u001b[0m                                 Traceback (most recent call last)",
      "Cell \u001b[1;32mIn[42], line 2\u001b[0m\n\u001b[0;32m      1\u001b[0m \u001b[38;5;66;03m# 딕셔너리에서 key값은 변하지 않는 요소로 정의 해야함\u001b[39;00m\n\u001b[1;32m----> 2\u001b[0m a \u001b[38;5;241m=\u001b[39m {[\u001b[38;5;241m3\u001b[39m] : \u001b[38;5;241m777\u001b[39m}\n\u001b[0;32m      3\u001b[0m a[\u001b[38;5;241m3\u001b[39m]\n",
      "\u001b[1;31mTypeError\u001b[0m: unhashable type: 'list'"
     ]
    }
   ],
   "source": [
    "# 딕셔너리에서 key값은 변하지 않는 요소로 정의 해야함\n",
    "# 리스트 자료는 변할 수 있는 가변 자료구조이다.\n",
    "# 그래서 딕셔너리의 key로 부적합\n",
    "a = {[\"3\"] : 777}\n",
    "a[\"3\"]"
   ]
  },
  {
   "cell_type": "markdown",
   "id": "4777a9a6",
   "metadata": {},
   "source": [
    "#### 딕셔너리 특성에 따라 내장 함수도 달라진다"
   ]
  },
  {
   "cell_type": "code",
   "execution_count": 44,
   "id": "a06df3c9",
   "metadata": {},
   "outputs": [
    {
     "data": {
      "text/plain": [
       "dict_keys(['apple', 'banana', 'cherry'])"
      ]
     },
     "execution_count": 44,
     "metadata": {},
     "output_type": "execute_result"
    }
   ],
   "source": [
    "# 자료구조의 key 값만 가져온다\n",
    "my_dict = {'apple': 2, 'banana' : 3, 'cherry': 5}\n",
    "key_list = my_dict.keys()\n",
    "key_list"
   ]
  },
  {
   "cell_type": "code",
   "execution_count": 45,
   "id": "cfb3e400",
   "metadata": {},
   "outputs": [
    {
     "data": {
      "text/plain": [
       "dict_values([2, 3, 5])"
      ]
     },
     "execution_count": 45,
     "metadata": {},
     "output_type": "execute_result"
    }
   ],
   "source": [
    "# 자료구조의 value 값만 가져온다\n",
    "my_dict = {'apple': 2, 'banana' : 3, 'cherry': 5}\n",
    "key_list = my_dict.values()\n",
    "key_list"
   ]
  },
  {
   "cell_type": "code",
   "execution_count": 46,
   "id": "cf8f5b9a",
   "metadata": {},
   "outputs": [
    {
     "data": {
      "text/plain": [
       "dict_items([('apple', 2), ('banana', 3), ('cherry', 5)])"
      ]
     },
     "execution_count": 46,
     "metadata": {},
     "output_type": "execute_result"
    }
   ],
   "source": [
    "# 자료구조의 key & value를 모두 가져온다.\n",
    "my_dict = {'apple': 2, 'banana' : 3, 'cherry': 5}\n",
    "key_list = my_dict.items()\n",
    "key_list"
   ]
  },
  {
   "cell_type": "code",
   "execution_count": 47,
   "id": "a7e5cc2f",
   "metadata": {},
   "outputs": [
    {
     "data": {
      "text/plain": [
       "2"
      ]
     },
     "execution_count": 47,
     "metadata": {},
     "output_type": "execute_result"
    }
   ],
   "source": [
    "# key에 있는 value값을 가져오기\n",
    "my_dict = {'apple': 2, 'banana' : 3, 'cherry': 5}\n",
    "values = my_dict.get('apple')\n",
    "values"
   ]
  },
  {
   "cell_type": "code",
   "execution_count": 49,
   "id": "bfafe91f",
   "metadata": {},
   "outputs": [],
   "source": [
    "my_dict = {'apple': 2, 'banana' : 3, 'cherry': 5}\n",
    "values = my_dict.clear()\n",
    "values"
   ]
  },
  {
   "cell_type": "code",
   "execution_count": 50,
   "id": "9b5e41fa",
   "metadata": {},
   "outputs": [
    {
     "data": {
      "text/plain": [
       "False"
      ]
     },
     "execution_count": 50,
     "metadata": {},
     "output_type": "execute_result"
    }
   ],
   "source": [
    "# 데이터 존재 여부, 참 거짓을 말하는 부울형 변수로 결과가 나온다\n",
    "my_dict = {'apple': 2, 'banana' : 3, 'cherry': 5}\n",
    "apple_in = 'mario' in my_dict\n",
    "apple_in"
   ]
  },
  {
   "cell_type": "code",
   "execution_count": 51,
   "id": "2853f7cd",
   "metadata": {},
   "outputs": [
    {
     "data": {
      "text/plain": [
       "False"
      ]
     },
     "execution_count": 51,
     "metadata": {},
     "output_type": "execute_result"
    }
   ],
   "source": [
    "a = {'name' : 'pey', 'phone' : '010-999-1234', 'birth' : '1118'}\n",
    "'email' in a # 'email' 이란 keys 값은 존재하지 않으므로 false이다"
   ]
  },
  {
   "cell_type": "code",
   "execution_count": 52,
   "id": "9835c362",
   "metadata": {},
   "outputs": [],
   "source": [
    "# 집합 자료형 - 비순서형 자료구조 : 데이터 중복허용 x, 인덱스 x"
   ]
  },
  {
   "cell_type": "code",
   "execution_count": 54,
   "id": "57fd2583",
   "metadata": {},
   "outputs": [
    {
     "data": {
      "text/plain": [
       "set"
      ]
     },
     "execution_count": 54,
     "metadata": {},
     "output_type": "execute_result"
    }
   ],
   "source": [
    "# 중괄호를 쓰거나 다른 자료구조를 set이란 함수로 감싼다\n",
    "s1 = {1,2,3}\n",
    "s1 = set([1,2,3])\n",
    "type(s1)"
   ]
  },
  {
   "cell_type": "code",
   "execution_count": 56,
   "id": "23ed7eb8",
   "metadata": {},
   "outputs": [
    {
     "data": {
      "text/plain": [
       "tuple"
      ]
     },
     "execution_count": 56,
     "metadata": {},
     "output_type": "execute_result"
    }
   ],
   "source": [
    "# list & tuple도 저런식으로 변환됨\n",
    "s2 = list((1,2,3))\n",
    "type(s2) # 자료구조의 형태를 확인 할 때 type이라는 함수를 씁니다.\n",
    "s2 = tuple([1,2,3])\n",
    "type(s2)"
   ]
  },
  {
   "cell_type": "code",
   "execution_count": 55,
   "id": "bc0e63f6",
   "metadata": {},
   "outputs": [
    {
     "data": {
      "text/plain": [
       "{'e', 'h', 'l', 'o'}"
      ]
     },
     "execution_count": 55,
     "metadata": {},
     "output_type": "execute_result"
    }
   ],
   "source": [
    "# 중복과 순서가 없는 집합형 자료형 예시 1\n",
    "s2 = set(\"hello\")\n",
    "s2"
   ]
  },
  {
   "cell_type": "markdown",
   "id": "d4b42658",
   "metadata": {},
   "source": [
    "인덱싱 하려면 리스트나 튜플로 바꾸고 나서 하세요"
   ]
  },
  {
   "cell_type": "code",
   "execution_count": 58,
   "id": "6636e3e0",
   "metadata": {},
   "outputs": [
    {
     "data": {
      "text/plain": [
       "[1, 2, 3, 4, 66]"
      ]
     },
     "execution_count": 58,
     "metadata": {},
     "output_type": "execute_result"
    }
   ],
   "source": [
    "# 중복된 원소를 제외하고 데이터를 줄이세요\n",
    "s1 = [1,2,3,4,1,2,3,66]\n",
    "s2 = set(s1)\n",
    "s2\n",
    "s3 = list(s2)\n",
    "s3"
   ]
  },
  {
   "cell_type": "markdown",
   "id": "4d58ed6f",
   "metadata": {},
   "source": [
    "행렬형 자료구조 다룰 때 [1,2,3,4]\n",
    "행렬전체에 수를 더할 때도 있지만\n",
    "\n",
    "두 자료구조의 공통 원소만 가져오거나, 중복빼고 합치거나, 중복데이터 삭제\n",
    "이 때 쓰이는게 교집합, 합집합, 차집합"
   ]
  },
  {
   "cell_type": "code",
   "execution_count": 60,
   "id": "7310f2b8",
   "metadata": {},
   "outputs": [
    {
     "data": {
      "text/plain": [
       "{4, 5, 6}"
      ]
     },
     "execution_count": 60,
     "metadata": {},
     "output_type": "execute_result"
    }
   ],
   "source": [
    "s1 = set([1,2,3,4,5,6])\n",
    "s2 = set([4,5,6,7,8,9])\n",
    "# 교집합을 구하고 싶을 때 '&' 를 이용하면 교집합을 간단히 구할 수 있다.\n",
    "s1 & s2"
   ]
  },
  {
   "cell_type": "code",
   "execution_count": 61,
   "id": "22169884",
   "metadata": {},
   "outputs": [
    {
     "data": {
      "text/plain": [
       "{4, 5, 6}"
      ]
     },
     "execution_count": 61,
     "metadata": {},
     "output_type": "execute_result"
    }
   ],
   "source": [
    "# 또는 다음과 같이 intersection 함수를 사용해도 결과는 동일하다.\n",
    "s1.intersection(s2)"
   ]
  },
  {
   "cell_type": "code",
   "execution_count": 62,
   "id": "ce794cf3",
   "metadata": {},
   "outputs": [
    {
     "data": {
      "text/plain": [
       "{1, 2, 3, 4, 5, 6, 7, 8, 9}"
      ]
     },
     "execution_count": 62,
     "metadata": {},
     "output_type": "execute_result"
    }
   ],
   "source": [
    "# 합집합은 | 를 쓰면 된다.\n",
    "s1 | s2"
   ]
  },
  {
   "cell_type": "code",
   "execution_count": 63,
   "id": "4311ec14",
   "metadata": {},
   "outputs": [
    {
     "data": {
      "text/plain": [
       "{1, 2, 3, 4, 5, 6, 7, 8, 9}"
      ]
     },
     "execution_count": 63,
     "metadata": {},
     "output_type": "execute_result"
    }
   ],
   "source": [
    "# union을 써도 됩니다.\n",
    "s1.union(s2)"
   ]
  },
  {
   "cell_type": "code",
   "execution_count": 68,
   "id": "015b546c",
   "metadata": {},
   "outputs": [
    {
     "data": {
      "text/plain": [
       "{7, 8, 9}"
      ]
     },
     "execution_count": 68,
     "metadata": {},
     "output_type": "execute_result"
    }
   ],
   "source": [
    "# 차집합은 - 로 계산\n",
    "s1 - s2\n",
    "s2 - s1\n",
    "# 두 예제의 결과는 다릅니다.\n",
    "s1.difference(s2)\n",
    "s2.difference(s1)"
   ]
  },
  {
   "cell_type": "markdown",
   "id": "e329bb02",
   "metadata": {},
   "source": [
    "### 집합형 자료구조의 내장함수 소개"
   ]
  },
  {
   "cell_type": "code",
   "execution_count": 69,
   "id": "f8b06f20",
   "metadata": {},
   "outputs": [
    {
     "data": {
      "text/plain": [
       "{1, 2, 3, 4, 5, 6, 9}"
      ]
     },
     "execution_count": 69,
     "metadata": {},
     "output_type": "execute_result"
    }
   ],
   "source": [
    "# 데이터 더하기\n",
    "s1 = set([1,2,3,4,5,6])\n",
    "s1.add(9)\n",
    "s1"
   ]
  },
  {
   "cell_type": "code",
   "execution_count": 71,
   "id": "f85ee6af",
   "metadata": {},
   "outputs": [
    {
     "data": {
      "text/plain": [
       "{1, 2, 3, 4, 5, 6, 11, 12}"
      ]
     },
     "execution_count": 71,
     "metadata": {},
     "output_type": "execute_result"
    }
   ],
   "source": [
    "# 값 여러개 추가하기 - update\n",
    "s1 = set([1,2,3,4,5,6])\n",
    "s1.update([11,12])\n",
    "s1"
   ]
  },
  {
   "cell_type": "code",
   "execution_count": 72,
   "id": "1588523c",
   "metadata": {},
   "outputs": [
    {
     "ename": "AttributeError",
     "evalue": "'set' object has no attribute 'sort'",
     "output_type": "error",
     "traceback": [
      "\u001b[1;31m---------------------------------------------------------------------------\u001b[0m",
      "\u001b[1;31mAttributeError\u001b[0m                            Traceback (most recent call last)",
      "Cell \u001b[1;32mIn[72], line 4\u001b[0m\n\u001b[0;32m      1\u001b[0m \u001b[38;5;66;03m# 집합관련 함수는 sort 기능이 있나요?\u001b[39;00m\n\u001b[0;32m      3\u001b[0m my_set \u001b[38;5;241m=\u001b[39m {\u001b[38;5;241m1\u001b[39m, \u001b[38;5;241m2\u001b[39m, \u001b[38;5;241m3\u001b[39m}\n\u001b[1;32m----> 4\u001b[0m my_set\u001b[38;5;241m.\u001b[39msort()\n",
      "\u001b[1;31mAttributeError\u001b[0m: 'set' object has no attribute 'sort'"
     ]
    }
   ],
   "source": [
    "# 집합관련 함수는 sort 기능이 있나요?\n",
    "\n",
    "my_set = {1, 2, 3}\n",
    "my_set.sort()"
   ]
  },
  {
   "cell_type": "code",
   "execution_count": 74,
   "id": "60a13d9e",
   "metadata": {},
   "outputs": [
    {
     "data": {
      "text/plain": [
       "{1, 2, 3, 4, 5}"
      ]
     },
     "execution_count": 74,
     "metadata": {},
     "output_type": "execute_result"
    }
   ],
   "source": [
    "# 중복된 원소는 안들어가요\n",
    "my_set = {1, 2, 3}\n",
    "my_set.update([3,4,5])\n",
    "my_set"
   ]
  },
  {
   "cell_type": "code",
   "execution_count": 76,
   "id": "8cd4136d",
   "metadata": {},
   "outputs": [
    {
     "data": {
      "text/plain": [
       "{1, 2, 4, 5}"
      ]
     },
     "execution_count": 76,
     "metadata": {},
     "output_type": "execute_result"
    }
   ],
   "source": [
    "my_set = {1, 2, 3, 4, 5}\n",
    "my_set.remove(3) # 4번째 원소 말고 3이란 값이 날아갑니다.\n",
    "my_set"
   ]
  },
  {
   "cell_type": "code",
   "execution_count": 77,
   "id": "74f69edd",
   "metadata": {},
   "outputs": [],
   "source": [
    "# boolean (불자료형) 참, 거짓으로만 이루어진 자료구조\n",
    "# 첫 글자를 대문자로 표기함 True False\n",
    "# 예약어니까 저 이름으로는 변수선언 안됨"
   ]
  },
  {
   "cell_type": "code",
   "execution_count": 78,
   "id": "affeea97",
   "metadata": {},
   "outputs": [
    {
     "ename": "SyntaxError",
     "evalue": "cannot assign to True (1090476282.py, line 6)",
     "output_type": "error",
     "traceback": [
      "\u001b[1;36m  Cell \u001b[1;32mIn[78], line 6\u001b[1;36m\u001b[0m\n\u001b[1;33m    True = 555\u001b[0m\n\u001b[1;37m    ^\u001b[0m\n\u001b[1;31mSyntaxError\u001b[0m\u001b[1;31m:\u001b[0m cannot assign to True\n"
     ]
    }
   ],
   "source": [
    "# 변수 이름 고려사항\n",
    "# 첫 글자 숫자 안됨\n",
    "# 특수문자 안됨\n",
    "# 예약어 금지 (내장함수 등의 기능을 담당하는 단어) - for, while, True, False\n",
    "\n",
    "True = 555"
   ]
  },
  {
   "cell_type": "code",
   "execution_count": 81,
   "id": "969d57df",
   "metadata": {},
   "outputs": [
    {
     "data": {
      "text/plain": [
       "False"
      ]
     },
     "execution_count": 81,
     "metadata": {},
     "output_type": "execute_result"
    }
   ],
   "source": [
    "x = 1 == 2 # 조건문에 쓰임\n",
    "x"
   ]
  },
  {
   "cell_type": "markdown",
   "id": "7d4058ae",
   "metadata": {},
   "source": [
    "참 거짓은 조건문에 쓰입니다."
   ]
  },
  {
   "cell_type": "code",
   "execution_count": 88,
   "id": "bdefcd4c",
   "metadata": {},
   "outputs": [
    {
     "name": "stdout",
     "output_type": "stream",
     "text": [
      "택시를 타자\n"
     ]
    },
    {
     "data": {
      "text/plain": [
       "bool"
      ]
     },
     "execution_count": 88,
     "metadata": {},
     "output_type": "execute_result"
    }
   ],
   "source": [
    "# 자료형엔 참, 거짓이 있습니다.\n",
    "# 숫자에서 0이 나오면 부울 자료형 기준으로 거짓이 됩니다. 숫자에선 0빼고 참\n",
    "# 문자열 데이터는요? 데이터가 비어있으면 거짓, 뭐라도 있으면 참입니다\n",
    "# \"\" 이렇게 하면 빈 문자열로 비어있는 데이터라서 거짓,\n",
    "# \" \"이러면 띄어쓴 데이터가 존재한다고 컴퓨터가 인식합니다.\n",
    "# 빈 리스트, 튜플은 거짓인데요, 빈 자료구조안에 [()] 이런식으로 자료구조가\n",
    "# 위치 한다면 컴퓨터는 데이터가 있다고 인식하므로 참으로 받아들여요\n",
    "pocket = 7000\n",
    "taxi = 10000\n",
    "kk = pocket > taxi\n",
    "if -1: \n",
    "    print(\"택시를 타자\")\n",
    "else:\n",
    "    print(\"걸어가자\")\n",
    "    \n",
    "type(kk)"
   ]
  },
  {
   "cell_type": "code",
   "execution_count": 93,
   "id": "cf9bc361",
   "metadata": {},
   "outputs": [
    {
     "data": {
      "text/plain": [
       "True"
      ]
     },
     "execution_count": 93,
     "metadata": {},
     "output_type": "execute_result"
    }
   ],
   "source": [
    "# 부울 자료형의 예시입니다. 참 거짓의 사례를 확인해 보세요~\n",
    "bool([1,2,3]) # True\n",
    "bool([]) # False\n",
    "bool(0) # False\n",
    "bool(3) #True"
   ]
  },
  {
   "cell_type": "code",
   "execution_count": 102,
   "id": "3467acc2",
   "metadata": {},
   "outputs": [
    {
     "name": "stdout",
     "output_type": "stream",
     "text": [
      "4번 데이터가 검증 후 삭제되었습니다. [1, 2, 3]\n",
      "3번 데이터가 검증 후 삭제되었습니다. [1, 2]\n",
      "2번 데이터가 검증 후 삭제되었습니다. [1]\n",
      "1번 데이터가 검증 후 삭제되었습니다. []\n",
      "모든 데이터가 검증이 끝났습니다.\n"
     ]
    }
   ],
   "source": [
    "# 미검증 데이터 셋 확인 후 삭제 예시\n",
    "# a 라는 검증되지 않은 데이터를 가진 데이터셋을 하나씩 읽어서\n",
    "# 검증 후 데이터를 하나씩 삭제한다.\n",
    "# 모든 데이터가 검증이 되어 전부 없어지면 반복문을 멈춘다.\n",
    "# 빈 데이터가 될 때까지만  반복 로직을 유지한다.\n",
    "a = [1, 2, 3, 4]\n",
    "while a:\n",
    "    print(str(a.pop()) + \"번 데이터가 검증 후 삭제되었습니다.\", a)\n",
    "    \n",
    "print(\"모든 데이터가 검증이 끝났습니다.\")"
   ]
  },
  {
   "cell_type": "code",
   "execution_count": null,
   "id": "52bb27a6",
   "metadata": {},
   "outputs": [],
   "source": []
  },
  {
   "cell_type": "code",
   "execution_count": 103,
   "id": "aaa57a68",
   "metadata": {},
   "outputs": [
    {
     "name": "stdout",
     "output_type": "stream",
     "text": [
      "1912724687232 1912724687232\n"
     ]
    }
   ],
   "source": [
    "# 동일한 메모리 주소 = 동일한 객체\n",
    "a = [1, 2, 3]\n",
    "b = a\n",
    "print(id(a), id(b))"
   ]
  },
  {
   "cell_type": "markdown",
   "id": "f63bed43",
   "metadata": {},
   "source": [
    "### 메모리 주소 (deep copy, shallow copy)"
   ]
  },
  {
   "cell_type": "code",
   "execution_count": 105,
   "id": "71093172",
   "metadata": {},
   "outputs": [
    {
     "data": {
      "text/plain": [
       "[1, 4, 3]"
      ]
     },
     "execution_count": 105,
     "metadata": {},
     "output_type": "execute_result"
    }
   ],
   "source": [
    "a[1] = 4\n",
    "a"
   ]
  },
  {
   "cell_type": "code",
   "execution_count": 106,
   "id": "fc996d17",
   "metadata": {},
   "outputs": [
    {
     "data": {
      "text/plain": [
       "[1, 4, 3]"
      ]
     },
     "execution_count": 106,
     "metadata": {},
     "output_type": "execute_result"
    }
   ],
   "source": [
    "b"
   ]
  },
  {
   "cell_type": "markdown",
   "id": "2039b67c",
   "metadata": {},
   "source": [
    "#### 같은 메모리 주소를 공유하면 deep copy\n",
    "#### 다른 메모리 주소를 고유해서 두 객체가 독립적이면 shallow copy가 됩니다."
   ]
  },
  {
   "cell_type": "markdown",
   "id": "279179c6",
   "metadata": {},
   "source": [
    "#### b 변수를 만들 때 a 주소의 값만 가져오고 다른 주소를 가리키는 법은?"
   ]
  },
  {
   "cell_type": "markdown",
   "id": "df7bf0dd",
   "metadata": {},
   "source": [
    "1. [:] 이용하기\n",
    "\n",
    "첫 번째 방법은 다음과 같이 리스트 전체를 가리키는 [:]을 사용해서 복사하는 것이다."
   ]
  },
  {
   "cell_type": "code",
   "execution_count": 108,
   "id": "3d9c04f7",
   "metadata": {},
   "outputs": [
    {
     "name": "stdout",
     "output_type": "stream",
     "text": [
      "[1, 4, 3] [1, 2, 3]\n"
     ]
    }
   ],
   "source": [
    "a = [1, 2, 3]\n",
    "b = a[:]\n",
    "a[1] = 4\n",
    "print(a, b)"
   ]
  },
  {
   "cell_type": "markdown",
   "id": "f874fa52",
   "metadata": {},
   "source": [
    "2. copy 모듈 이용하기\n",
    "\n",
    "두 번째 방법은 copy 모듈을 사용하는 것이다. 다음 예를 보면 from copy import copy 라는 처음 보는 형태의 문장이 나오는데, 이것은 뒤에 설명할 파이썬 모듈 부분에서 자세히 다룬다. 여기에서는 단순히 copy 함수를 쓰기 위해서 사용하는 것이라고만 알아 두자."
   ]
  },
  {
   "cell_type": "code",
   "execution_count": 109,
   "id": "7cc0d118",
   "metadata": {},
   "outputs": [
    {
     "name": "stdout",
     "output_type": "stream",
     "text": [
      "1912725147200\n",
      "1912724823232\n"
     ]
    }
   ],
   "source": [
    "# copy라는 패키지에서 copy라는 기능을 불러온다\n",
    "from copy import copy\n",
    "a = [1,2,3]\n",
    "b = copy(a)\n",
    "print(id(a))\n",
    "print(id(b))"
   ]
  },
  {
   "cell_type": "code",
   "execution_count": 111,
   "id": "fcaf9865",
   "metadata": {},
   "outputs": [
    {
     "data": {
      "text/plain": [
       "False"
      ]
     },
     "execution_count": 111,
     "metadata": {},
     "output_type": "execute_result"
    }
   ],
   "source": [
    "# 동일 객체인지 비교하는 법\n",
    "# 메모리 주소가 같으면 동일객체인지 알 수 있지만 더 간단히 확인\n",
    "a is b"
   ]
  },
  {
   "cell_type": "code",
   "execution_count": 112,
   "id": "763b1a4d",
   "metadata": {},
   "outputs": [
    {
     "name": "stdout",
     "output_type": "stream",
     "text": [
      "택시를 타자\n"
     ]
    }
   ],
   "source": [
    "# if문 \n",
    "# 파이선은 들여쓰기에 매우 민감하다. 들여쓰기 4번 혹은 탭키한번 입력해야함\n",
    "# if의 각 단락이 끝나면 반드시 : 입력\n",
    "\n",
    "money = -1\n",
    "\n",
    "if money: \n",
    "    print(\"택시를 타자\")\n",
    "    \n",
    "else: \n",
    "    print(\"걸어가자\")\n"
   ]
  },
  {
   "cell_type": "code",
   "execution_count": 113,
   "id": "647dc01b",
   "metadata": {},
   "outputs": [
    {
     "data": {
      "text/plain": [
       "True"
      ]
     },
     "execution_count": 113,
     "metadata": {},
     "output_type": "execute_result"
    }
   ],
   "source": [
    "# 비교연산자 예시\n",
    "# if의 조건을 정하는 비교 연산자\n",
    "x = 3\n",
    "y = 2\n",
    "x > y # True\n",
    "x < y # False\n",
    "x == y # False\n",
    "x != y # True\n",
    "x <= 3 # 작거나 같다 혹은 크거나 같다는 부등호가 왼쪽에 온다.\n",
    "x >= 3"
   ]
  },
  {
   "cell_type": "code",
   "execution_count": 114,
   "id": "73a09103",
   "metadata": {},
   "outputs": [
    {
     "ename": "SyntaxError",
     "evalue": "invalid syntax. Perhaps you forgot a comma? (5513540.py, line 1)",
     "output_type": "error",
     "traceback": [
      "\u001b[1;36m  Cell \u001b[1;32mIn[114], line 1\u001b[1;36m\u001b[0m\n\u001b[1;33m    if 조건(참 혹은 거짓):\u001b[0m\n\u001b[1;37m          ^\u001b[0m\n\u001b[1;31mSyntaxError\u001b[0m\u001b[1;31m:\u001b[0m invalid syntax. Perhaps you forgot a comma?\n"
     ]
    }
   ],
   "source": [
    "'''\n",
    "if 조건(참 혹은 거짓):\n",
    "    참 이었을 때 명령어들\n",
    "else:\n",
    "    거짓 이었을 때 명령어들\n",
    "'''"
   ]
  },
  {
   "cell_type": "code",
   "execution_count": 115,
   "id": "4fc8f3e2",
   "metadata": {},
   "outputs": [
    {
     "name": "stdout",
     "output_type": "stream",
     "text": [
      "걸어가자\n"
     ]
    }
   ],
   "source": [
    "money = 2000\n",
    "if money >= 3000:\n",
    "    print(\"택시를 타자\")\n",
    "else: \n",
    "    print(\"걸어가자\")"
   ]
  },
  {
   "cell_type": "markdown",
   "id": "2b4a8bbf",
   "metadata": {},
   "source": [
    "#### 조건을 판단하기 위해 사용하는 다른 연산자로는 and, or, not 이 있다. 각각의 연산자는 다음처럼 동작한다."
   ]
  },
  {
   "cell_type": "markdown",
   "id": "f266a01e",
   "metadata": {},
   "source": [
    "예제) 돈이 3000 이상 있거나 신용카드가 있으면 택시를 타고 아니면 걷자"
   ]
  },
  {
   "cell_type": "code",
   "execution_count": 120,
   "id": "ce04b5e6",
   "metadata": {},
   "outputs": [
    {
     "name": "stdout",
     "output_type": "stream",
     "text": [
      "택시를 타자\n"
     ]
    }
   ],
   "source": [
    "money = 2000\n",
    "card = True\n",
    "\n",
    "if money >= 3000 and card:\n",
    "    print(\"택시를 타자\")\n",
    "else: \n",
    "    print(\"걸어가자\")"
   ]
  },
  {
   "cell_type": "code",
   "execution_count": 126,
   "id": "f64ab2c8",
   "metadata": {},
   "outputs": [
    {
     "name": "stdout",
     "output_type": "stream",
     "text": [
      "택시를 타자\n"
     ]
    }
   ],
   "source": [
    "money = 2000\n",
    "card = True\n",
    "\n",
    "if money >= 3000 or card:\n",
    "    print(\"택시를 타자\")\n",
    "else: \n",
    "    print(\"걸어가자\")"
   ]
  },
  {
   "cell_type": "code",
   "execution_count": 122,
   "id": "e17ab591",
   "metadata": {},
   "outputs": [
    {
     "name": "stdout",
     "output_type": "stream",
     "text": [
      "걸어가자\n"
     ]
    }
   ],
   "source": [
    "money = 2000\n",
    "card = True\n",
    "\n",
    "if not card:\n",
    "    print(\"택시를 타자\")\n",
    "else: \n",
    "    print(\"걸어가자\")"
   ]
  },
  {
   "cell_type": "code",
   "execution_count": 121,
   "id": "5fdbf20e",
   "metadata": {},
   "outputs": [
    {
     "name": "stdout",
     "output_type": "stream",
     "text": [
      "택시를 타자\n"
     ]
    }
   ],
   "source": [
    "money = 2000\n",
    "card = True\n",
    "\n",
    "if not money >= 3000:\n",
    "    print(\"택시를 타자\")\n",
    "else: \n",
    "    print(\"걸어가자\")"
   ]
  },
  {
   "cell_type": "markdown",
   "id": "e68a320f",
   "metadata": {},
   "source": [
    "파이썬은 조건문에서 데이터셋 내부 데이터를 비교 할 수 있다."
   ]
  },
  {
   "cell_type": "code",
   "execution_count": 129,
   "id": "c98bd5be",
   "metadata": {},
   "outputs": [
    {
     "name": "stdout",
     "output_type": "stream",
     "text": [
      "전화기 있음\n"
     ]
    }
   ],
   "source": [
    "s = [\"card\", \"shoes\", \"phone\"]\n",
    "if \"phone\" in s:\n",
    "    print(\"전화기 있음\")\n",
    "else: \n",
    "    print(\"전화기 잃어버렸니?\")"
   ]
  },
  {
   "cell_type": "code",
   "execution_count": 133,
   "id": "c5e7a8dd",
   "metadata": {},
   "outputs": [
    {
     "data": {
      "text/plain": [
       "True"
      ]
     },
     "execution_count": 133,
     "metadata": {},
     "output_type": "execute_result"
    }
   ],
   "source": [
    "# 리스트, 튜플, 문자열 데이터에 전부 적용 가능\n",
    "1 in [1,2,3] # True\n",
    "1 not in [1,2,3] # False\n",
    "'a' in ('a','b','c') # True\n",
    "'j' not in 'python' # True"
   ]
  },
  {
   "cell_type": "code",
   "execution_count": 134,
   "id": "e81ebca9",
   "metadata": {},
   "outputs": [
    {
     "name": "stdout",
     "output_type": "stream",
     "text": [
      "택시를 타자\n"
     ]
    }
   ],
   "source": [
    "# 만약 pocket 에 'money' 가 있으면 택시를 타라고 출력, 없으면 걸아가라 출력\n",
    "\n",
    "pocket = ['paper', 'cellphone', 'money']\n",
    "\n",
    "if 'money' in pocket: \n",
    "    print(\"택시를 타자\")\n",
    "else:\n",
    "    print(\"걸어가자\")"
   ]
  },
  {
   "cell_type": "code",
   "execution_count": 137,
   "id": "6719f3ee",
   "metadata": {},
   "outputs": [
    {
     "name": "stdout",
     "output_type": "stream",
     "text": [
      "택시를 타자\n"
     ]
    }
   ],
   "source": [
    "# and or not 안쓰는 예시\n",
    "# money가 pocket 데이터셋 에 있던지 card가 있다면 택시타고 아니면 걸어가자\n",
    "pocket = ['paper', 'cellphone']\n",
    "card = 1\n",
    "\n",
    "if 'money' in pocket: \n",
    "    print(\"택시를 타자\")\n",
    "else: # 여기서 카드가 있는지 다시한번 확인\n",
    "    if card: \n",
    "        print(\"택시를 타자\")\n",
    "    else:\n",
    "        print('걸어가자')\n"
   ]
  },
  {
   "cell_type": "code",
   "execution_count": 138,
   "id": "8b038bca",
   "metadata": {},
   "outputs": [
    {
     "name": "stdout",
     "output_type": "stream",
     "text": [
      "택시를 타자\n"
     ]
    }
   ],
   "source": [
    "pocket = ['paper', 'cellphone']\n",
    "card = 1\n",
    "\n",
    "if 'money' in pocket: \n",
    "    print(\"택시를 타자\")\n",
    "elif card:\n",
    "    print(\"택시를 타자\")\n",
    "else:\n",
    "    print(\"걸어가자\")"
   ]
  },
  {
   "cell_type": "code",
   "execution_count": 139,
   "id": "5669b084",
   "metadata": {},
   "outputs": [
    {
     "name": "stdout",
     "output_type": "stream",
     "text": [
      "걸어 가라\n"
     ]
    }
   ],
   "source": [
    "# 예제 변형, elif 는 몇번이고 세부적인 조건을 나눌 수 있다.\n",
    "card = 10000\n",
    "if card >= 20000:\n",
    "    print('택시를 타고 가라')\n",
    "elif card >= 15000:\n",
    "    print('킥보드를 타고 가라')\n",
    "elif card >= 11000:\n",
    "    print('따릉이를 타고 가라')\n",
    "else:\n",
    "    print('걸어 가라')"
   ]
  },
  {
   "cell_type": "code",
   "execution_count": 147,
   "id": "a7ce88ba",
   "metadata": {},
   "outputs": [
    {
     "name": "stdout",
     "output_type": "stream",
     "text": [
      "정수를 입력해 주시기 바랍니다. : 23\n",
      "축하합니다. 정확히 맞추셨어요.\n",
      "끝입니다\n"
     ]
    }
   ],
   "source": [
    "# number = 23 우리가 원하는 정답\n",
    "# input 함수로 사용자의 입력을 받는데,\n",
    "# input 함수는 언제나 문자열 자료구조로 받기 때문에 정수처리 해야한다.\n",
    "number = 23\n",
    "guess = int(input('정수를 입력해 주시기 바랍니다. : '))\n",
    "\n",
    "if number == guess :\n",
    "    print ('축하합니다. 정확히 맞추셨어요.')\n",
    "elif guess < number :\n",
    "    print ('아니오. 그거보단 커야해요')\n",
    "elif guess > number :\n",
    "    print ('아니오. 그거보단 작아야해요')    \n",
    "print(\"끝입니다\")\n",
    "\n",
    "# 띄어쓰기를 잘못하면 의도치 않은 결과인데 에러메세지가 없응ㄹ 수 있다."
   ]
  },
  {
   "cell_type": "markdown",
   "id": "5b03126e",
   "metadata": {},
   "source": [
    "파이썬의 조건부 표현식(conditional expression)을 사용하면 위 코드를 다음과 같이 간단히 표현 할 수 있다."
   ]
  },
  {
   "cell_type": "code",
   "execution_count": 148,
   "id": "5cce842a",
   "metadata": {},
   "outputs": [],
   "source": [
    "score = 65\n",
    "# 참일 때 명령어 if 조건 else 거짓일 때 명령어\n",
    "message = \"success\" if score >= 60 else \"failure\""
   ]
  },
  {
   "cell_type": "code",
   "execution_count": 150,
   "id": "669d549f",
   "metadata": {},
   "outputs": [
    {
     "name": "stdout",
     "output_type": "stream",
     "text": [
      "택시를 타고 가라\n"
     ]
    }
   ],
   "source": [
    "pocket = ['paper', 'cellphone', 'money']\n",
    "\n",
    "if 'money' in pocket : print('택시를 타고 가라')\n",
    "else : print('걸어가라')"
   ]
  },
  {
   "cell_type": "code",
   "execution_count": null,
   "id": "62fa9494",
   "metadata": {},
   "outputs": [],
   "source": []
  }
 ],
 "metadata": {
  "kernelspec": {
   "display_name": "Python 3 (ipykernel)",
   "language": "python",
   "name": "python3"
  },
  "language_info": {
   "codemirror_mode": {
    "name": "ipython",
    "version": 3
   },
   "file_extension": ".py",
   "mimetype": "text/x-python",
   "name": "python",
   "nbconvert_exporter": "python",
   "pygments_lexer": "ipython3",
   "version": "3.11.5"
  }
 },
 "nbformat": 4,
 "nbformat_minor": 5
}
