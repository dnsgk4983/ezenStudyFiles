{
 "cells": [
  {
   "cell_type": "code",
   "execution_count": 4,
   "id": "95851a72",
   "metadata": {},
   "outputs": [],
   "source": [
    "# pandas 라이브러리를 불러 옵니다.\n",
    "import pandas as pd\n",
    "\n",
    "movie = {'gwang' : [9.24, 1200], ' gong' : [7.86, 500], 'face' : [8.01, 900]}\n",
    "# pandas에 DataFrame이라는 기능을  써서 딕셔너리 자료구조를 엑셀화합니다.\n",
    "df = pd.DataFrame(movie)\n",
    "df\n",
    "# to_csv라는 명령어로 excel.csv 라는 파일을 만듭니다.\n",
    "df.to_csv(\"excel.csv\", encoding = 'utf-8')"
   ]
  },
  {
   "cell_type": "code",
   "execution_count": 25,
   "id": "ed79d48f",
   "metadata": {},
   "outputs": [
    {
     "data": {
      "text/plain": [
       "[5, 4, 3, 2, 1]"
      ]
     },
     "execution_count": 25,
     "metadata": {},
     "output_type": "execute_result"
    }
   ],
   "source": [
    "# 우리가 내장함수를 잘 알아야 하는 이유\n",
    "dataset = [3, 5, 1, 2, 4]\n",
    "dataset.sort()\n",
    "# dataset.sort(reverse = True)\n",
    "dataset"
   ]
  },
  {
   "cell_type": "code",
   "execution_count": 29,
   "id": "3090fb4c",
   "metadata": {},
   "outputs": [
    {
     "name": "stdout",
     "output_type": "stream",
     "text": [
      "0 1 [3, 5, 1, 2, 4]\n",
      "0 2 [5, 3, 1, 2, 4]\n",
      "0 3 [5, 3, 1, 2, 4]\n",
      "0 4 [5, 3, 1, 2, 4]\n",
      "1 2 [5, 3, 1, 2, 4]\n",
      "1 3 [5, 3, 1, 2, 4]\n",
      "1 4 [5, 3, 1, 2, 4]\n",
      "2 3 [5, 4, 1, 2, 3]\n",
      "2 4 [5, 4, 2, 1, 3]\n",
      "3 4 [5, 4, 3, 1, 2]\n",
      "[5, 4, 3, 2, 1]\n"
     ]
    }
   ],
   "source": [
    "# 인생 하드모드 feat. 정렬 알고리즘\n",
    "dataset = [3, 5, 1, 2, 4]\n",
    "n = len(dataset)\n",
    "for i in range(0, (n-1)) : # 1 n-1 번째 친구들 가지고 비교\n",
    "    for j in range((i + 1), n) :\n",
    "        # 왼쪽이 오른쪽 보다 크다면 순서를 둘이 바꿔\n",
    "        print(i, j, dataset)\n",
    "        if dataset[i] < dataset[j]:\n",
    "#         if dataset[i] > dataset[j]:\n",
    "            # 두 데이터의 자리바꿈을 위해 tmp라는 임시변수를 만듬\n",
    "            tmp = dataset[i] # 왼쪽수를 임시 변수에 저장한다.\n",
    "            dataset[i] = dataset[j] # 오른쪽 수가 왼쪽수로 넘어간다.\n",
    "            dataset[j] = tmp\n",
    "print(dataset)"
   ]
  },
  {
   "cell_type": "code",
   "execution_count": 40,
   "id": "9601ccf8",
   "metadata": {},
   "outputs": [
    {
     "name": "stdout",
     "output_type": "stream",
     "text": [
      "[46, 36, 12, 19, 7, 1]\n"
     ]
    }
   ],
   "source": [
    "# 1-45 중의 정수를 무작위로 6개뽑아서 리스트 자료에 넣어서 보여주세요\n",
    "# 로또 프로그램\n",
    "\n",
    "import random\n",
    "\n",
    "random.randint(1,46) # 1~45 정수 중 하나를 무작위로 추출\n",
    "r = [] #  결과를 저장할 리스트 자료구조 준비\n",
    "\n",
    "for i in range(6): # 6개의 숫자를 뽑는다.\n",
    "    r.append(random.randint(1, 46))\n",
    "\n",
    "print(r)"
   ]
  },
  {
   "cell_type": "markdown",
   "id": "65fb8356",
   "metadata": {},
   "source": [
    "자동 번호 세트 10세트 뽑기 + 중복된 숫자를 주지 않도록 코드 개선"
   ]
  },
  {
   "cell_type": "code",
   "execution_count": 74,
   "id": "945c2559",
   "metadata": {},
   "outputs": [
    {
     "name": "stdout",
     "output_type": "stream",
     "text": [
      "{1: [1, 9, 10, 11, 21, 26], 2: [3, 17, 19, 40, 41, 43], 3: [1, 6, 11, 13, 18, 41], 4: [8, 12, 22, 30, 36, 44], 5: [5, 22, 36, 39, 42, 44], 6: [2, 15, 37, 39, 43, 46], 7: [5, 8, 16, 26, 28, 44], 8: [6, 13, 17, 18, 23, 28], 9: [4, 11, 16, 25, 30, 35], 10: [1, 14, 18, 19, 25, 37]}\n"
     ]
    }
   ],
   "source": [
    "import random\n",
    "\n",
    "final_result = {}  # 최종 결과를 저장하는 딕셔너리 자료구조 선언\n",
    "for i in range(10): # 복권 10장에 해당하는 바깥 for문\n",
    "    r = [] # 개별 복권 결과를 저장하는 자료구조\n",
    "    while len(r) < 6: #완전한 6번호 1세트 나올때까지 반복\n",
    "        number = random.randint(1,46)\n",
    "        if number not in r: # 중복된 숫자가 아닌 경우만 번호 추가\n",
    "            r.append(number) # 중복 아닐때만 실행\n",
    "        r.sort() # 딕셔너리에 집어넣기 직전에 정렬\n",
    "        final_result[i+1] = r # 딕셔너리 자료에 완성된 복권세트 추가\n",
    "            \n",
    "print(final_result)\n",
    "        "
   ]
  },
  {
   "cell_type": "code",
   "execution_count": 79,
   "id": "9b34e895",
   "metadata": {},
   "outputs": [
    {
     "name": "stdout",
     "output_type": "stream",
     "text": [
      "[[1, 2, 3, 4, 5], [3, 11, 32, 77, 99], [2, 3, 32, 666, 75645], [1, 3, 4, 32, 666], [2, 5, 7, 323, 666]]\n"
     ]
    }
   ],
   "source": [
    "# 인생 하드모드 feat. 정렬 알고리즘\n",
    "# 정렬알고리즘에서 오름차순 알고리즘을 사용하여\n",
    "# 아래 5개 데이터셋의 정렬작업을 순차적으로 진행하여 주시기 바랍니다.\n",
    "# 맨 위에 for문 하나만 더 쓰면 됩니다.\n",
    "\n",
    "dataset_1 = [3, 5, 1, 2, 4]\n",
    "dataset_2 = [3, 11, 77, 32, 99]\n",
    "dataset_3 = [3, 75645, 32, 2, 666]\n",
    "dataset_4 = [3, 32, 1, 666, 4]\n",
    "dataset_5 = [323, 5, 7, 2, 666]\n",
    "# 2중 리스트 자료구조입니다. (데이터셋 안에 데이터셋)\n",
    "datasets = [dataset_1, dataset_2, dataset_3, dataset_4, dataset_5 ]\n",
    "# 외부 데이터 셋 안에 개별 데이터셋에 접근합니다. (빠깥 for문)\n",
    "\n",
    "for dataset in datasets:    \n",
    "    n = len(dataset)\n",
    "    for i in range(0, (n-1)) : # 1 n-1 번째 친구들 가지고 비교\n",
    "        for j in range((i + 1), n) :\n",
    "            if dataset[i] > dataset[j]:\n",
    "                temp = dataset[i]\n",
    "                dataset[i] = dataset[j]\n",
    "                dataset[j] = temp\n",
    "                \n",
    "print(datasets)"
   ]
  },
  {
   "cell_type": "code",
   "execution_count": 99,
   "id": "4fda2135",
   "metadata": {},
   "outputs": [
    {
     "name": "stdout",
     "output_type": "stream",
     "text": [
      "[2, 4, 6, 8, 10, 12, 14, 16, 18, 20, 22, 24, 26, 28, 30, 32, 34, 36, 38, 40, 42, 44, 46, 48, 50, 52, 54, 56, 58, 60, 62, 64, 66, 68, 70, 72, 74, 76, 78, 80, 82, 84, 86, 88, 90, 92, 94, 96, 98, 100]\n",
      "[1, 3, 5, 7, 9, 11, 13, 15, 17, 19, 21, 23, 25, 27, 29, 31, 33, 35, 37, 39, 41, 43, 45, 47, 49, 51, 53, 55, 57, 59, 61, 63, 65, 67, 69, 71, 73, 75, 77, 79, 81, 83, 85, 87, 89, 91, 93, 95, 97, 99]\n"
     ]
    }
   ],
   "source": [
    "# 1부터 100까지 정수중에서 짝수만 뽑아서 출력해 주세요.\n",
    "\n",
    "result = list(range(1, 101))\n",
    "result_even = []\n",
    "result_odd = []\n",
    "\n",
    "for i in result:\n",
    "    if i % 2 == 0:\n",
    "        result_even.append(i)\n",
    "    else:\n",
    "        result_odd.append(i)\n",
    "print(result_even)\n",
    "print(result_odd)"
   ]
  },
  {
   "cell_type": "code",
   "execution_count": 23,
   "id": "cc971e1a",
   "metadata": {},
   "outputs": [
    {
     "name": "stdout",
     "output_type": "stream",
     "text": [
      "[1, 2, 3, 4, 5]\n",
      "[2, 3, 4, 5]\n",
      "[3, 4, 5]\n",
      "[4, 5]\n",
      "[5]\n"
     ]
    }
   ],
   "source": [
    "lst = [1,2,3,4,5]\n",
    "# 리스트형 자료구조의 일부를 슬라이싱 하여 하나씩 쌓아나간다.\n",
    "result = []\n",
    "for i in lst:\n",
    "#     print(lst[:i])\n",
    "    print(lst[i-1:]) # ~~까지"
   ]
  },
  {
   "cell_type": "code",
   "execution_count": 39,
   "id": "06323cc3",
   "metadata": {},
   "outputs": [
    {
     "name": "stdout",
     "output_type": "stream",
     "text": [
      "과장 {}\n",
      "부장 {'과장': 1}\n",
      "대리 {'과장': 1, '부장': 1}\n",
      "사장 {'과장': 1, '부장': 1, '대리': 1}\n",
      "대리 {'과장': 1, '부장': 1, '대리': 1, '사장': 1}\n",
      "과장 {'과장': 1, '부장': 1, '대리': 2, '사장': 1}\n",
      "{'과장': 2, '부장': 1, '대리': 2, '사장': 1}\n"
     ]
    }
   ],
   "source": [
    "# 직급별로 단어 숫자 세서 딕셔너리에 저장해 주세요.\n",
    "# for문과 if문의 적절한 조화로 문제 푸시면 됩니다.\n",
    "그룹연락처 = ['과장', '부장', '대리', '사장', '대리', '과장']\n",
    "삼성전기 = {} # 결과 저장 할 딕셔너리 지정\n",
    "# 삼성전기 안에 직급별로 몇명 있는지 key & value로 구분\n",
    "for ch in 그룹연락처 : # 그룹연락처 안의 임직원분들 한분씩 끄집어내기\n",
    "    print(ch, 삼성전기)\n",
    "    if ch in 삼성전기: # 1명이 아닐 경우\n",
    "        삼성전기[ch] += 1 # 직급 eky 데이터에 사람 수 value 1 더하기\n",
    "    else:\n",
    "        삼성전기[ch] = 1 # 결과 데이터셋에 데이터 없으면 직급신설 + 사람수1 더하기\n",
    "print(삼성전기)"
   ]
  },
  {
   "cell_type": "markdown",
   "id": "a9541389",
   "metadata": {},
   "source": [
    "### 함수"
   ]
  },
  {
   "cell_type": "code",
   "execution_count": 40,
   "id": "a0cbb181",
   "metadata": {},
   "outputs": [
    {
     "name": "stdout",
     "output_type": "stream",
     "text": [
      "6620.0\n"
     ]
    }
   ],
   "source": [
    "# 함수 설명을 위한 상황설정\n",
    "# ----------------------------------------------------\n",
    "# 가게 손익계산식 = (매출 - 비용) * (1 - 세율) - 주주배당금\n",
    "revenue = 10000\n",
    "cost = 1000\n",
    "tax = 0.22\n",
    "dividend = 400"
   ]
  },
  {
   "cell_type": "code",
   "execution_count": 63,
   "id": "a48aa346",
   "metadata": {},
   "outputs": [
    {
     "data": {
      "text/plain": [
       "6620.0"
      ]
     },
     "execution_count": 63,
     "metadata": {},
     "output_type": "execute_result"
    }
   ],
   "source": [
    "import profit2 as calc\n",
    "\n",
    "calc.profit_calc(10000, 1000, 0.22, 400)"
   ]
  },
  {
   "cell_type": "code",
   "execution_count": 61,
   "id": "f47b02ac",
   "metadata": {},
   "outputs": [
    {
     "data": {
      "text/plain": [
       "(0.5, 0.4, 0.1, 1.0)"
      ]
     },
     "execution_count": 61,
     "metadata": {},
     "output_type": "execute_result"
    }
   ],
   "source": [
    "import profit2 as calc\n",
    "# 피자나라 치킨공주: 전체 매출액 대비 치킨, 피자, 소스의 비율을 갈고 싶을 때\n",
    "# 여러가지 결과값을 동시에 출력하고 싶다면?\n",
    "\n",
    "# y = chicken / revenue\n",
    "# z = pizza / revenue\n",
    "# r = sause / revenue\n",
    "# error_chk = (chicken + pizza + sause) / revenue\n",
    "\n",
    "calc.revenue_breakdown(10000, 5000, 4000, 1000)"
   ]
  },
  {
   "cell_type": "code",
   "execution_count": 65,
   "id": "bd05ab61",
   "metadata": {},
   "outputs": [],
   "source": [
    "# 두 인풋을 더하는 함수\n",
    "# 코딩 다 했으면 run 해서 내 함수를 메모리에 태워야 한다.\n",
    "def add2(a, b): # a, b 라는 인풋을 받아서 무언가를 하겠다.\n",
    "    return a+b"
   ]
  },
  {
   "cell_type": "code",
   "execution_count": 66,
   "id": "294c0a95",
   "metadata": {},
   "outputs": [
    {
     "data": {
      "text/plain": [
       "400"
      ]
     },
     "execution_count": 66,
     "metadata": {},
     "output_type": "execute_result"
    }
   ],
   "source": [
    "add2(100, 300)"
   ]
  },
  {
   "cell_type": "code",
   "execution_count": 68,
   "id": "f919cf13",
   "metadata": {},
   "outputs": [
    {
     "name": "stdout",
     "output_type": "stream",
     "text": [
      "7\n"
     ]
    }
   ],
   "source": [
    "# 함수 모듈과 인풋 데이터를 별도의 데이터셋에 저장해서 변수로 실행가능\n",
    "a = 3\n",
    "b = 4\n",
    "c = add2(a, b)\n",
    "print(c)"
   ]
  },
  {
   "cell_type": "markdown",
   "id": "67a281c0",
   "metadata": {},
   "source": [
    "매개변수와 인수\n",
    "\n",
    "매개변수(parameter)와 인수(arguments)는 혼용해서 사용하는 용어이므로 잘 기억해 두자. 매개변수는 함수에 입력으로 전달된 값을 받는 변수, 인수는 함수를 호출할 때 전달하는 입력값을 의미한다."
   ]
  },
  {
   "cell_type": "markdown",
   "id": "e34196e6",
   "metadata": {},
   "source": [
    "함수는 리턴값이 있을 수도 있고 없을수도 있다."
   ]
  },
  {
   "cell_type": "code",
   "execution_count": 70,
   "id": "0e52b334",
   "metadata": {},
   "outputs": [
    {
     "name": "stdout",
     "output_type": "stream",
     "text": [
      "좋은 하루입니다.\n"
     ]
    }
   ],
   "source": [
    "# 입력값도 없고 리턴값도 없는 함수 예시\n",
    "def say_hello():\n",
    "    print(\"좋은 하루입니다.\")\n",
    "    \n",
    "say_hello()"
   ]
  },
  {
   "cell_type": "code",
   "execution_count": 71,
   "id": "fc0670da",
   "metadata": {},
   "outputs": [],
   "source": [
    "# 입력값이 있는데 리턴값이 없는 함수 예시\n",
    "def add3(a, b):\n",
    "    print(\"%d, %d의 합은 %d입니다.\" % (a, b, a+b))"
   ]
  },
  {
   "cell_type": "code",
   "execution_count": 72,
   "id": "5f7be69f",
   "metadata": {},
   "outputs": [
    {
     "name": "stdout",
     "output_type": "stream",
     "text": [
      "100, 300의 합은 400입니다.\n"
     ]
    }
   ],
   "source": [
    "add3(100, 300)"
   ]
  },
  {
   "cell_type": "markdown",
   "id": "37d2fe40",
   "metadata": {},
   "source": [
    "리턴값 유무에 따른 함수의 특징이 있을까요?"
   ]
  },
  {
   "cell_type": "code",
   "execution_count": 73,
   "id": "2cabff53",
   "metadata": {},
   "outputs": [
    {
     "name": "stdout",
     "output_type": "stream",
     "text": [
      "100, 300의 합은 400입니다.\n",
      "None\n"
     ]
    }
   ],
   "source": [
    "print(add3(100, 300))\n",
    "# 지금 예시에서 나온 None은 리턴값이 없다는 의미입니다.\n",
    "# 예시 함수안의 print문은 함수의 구성요소 중 하나인 \"수행할 문장\"\n",
    "# 여기에 해당할 뿐이지 뭔가 결과 자체를 반환한 것이 없다.\n",
    "# None 은 '거짓을 나타내는 자료형' 입니다."
   ]
  },
  {
   "cell_type": "code",
   "execution_count": 77,
   "id": "b8fc7b0f",
   "metadata": {},
   "outputs": [],
   "source": [
    "# 함수를 만드셔서 greet(\"발렌타인\", 30)\n",
    "# 이렇게 입력하면\n",
    "# 안녕, 발렌타인! 너는 30 년 산이구나 ^^. 이렇게 출력되도록 해주세요.\n",
    "\n",
    "def greet(name, age):\n",
    "    print(\"안녕, %s! 너는 %d 년 산이구나^^.\" % (name, age))"
   ]
  },
  {
   "cell_type": "code",
   "execution_count": 78,
   "id": "9af0c95a",
   "metadata": {},
   "outputs": [
    {
     "name": "stdout",
     "output_type": "stream",
     "text": [
      "안녕, 발렌타인! 너는 30 년 산이구나^^.\n"
     ]
    }
   ],
   "source": [
    "greet(\"발렌타인\", 30)"
   ]
  },
  {
   "cell_type": "code",
   "execution_count": 1,
   "id": "8a28ac71",
   "metadata": {},
   "outputs": [],
   "source": [
    "# 입력값 3개를 받아서 더해주는 식을 함수로 쓴다면"
   ]
  },
  {
   "cell_type": "code",
   "execution_count": 2,
   "id": "226aabcc",
   "metadata": {},
   "outputs": [],
   "source": [
    "def sum_many(a, b, c):\n",
    "    z = a + b + c\n",
    "    return z"
   ]
  },
  {
   "cell_type": "code",
   "execution_count": 3,
   "id": "945d7b93",
   "metadata": {},
   "outputs": [
    {
     "data": {
      "text/plain": [
       "6"
      ]
     },
     "execution_count": 3,
     "metadata": {},
     "output_type": "execute_result"
    }
   ],
   "source": [
    "sum_many(1,2,3)"
   ]
  },
  {
   "cell_type": "code",
   "execution_count": null,
   "id": "aa681567",
   "metadata": {},
   "outputs": [],
   "source": []
  }
 ],
 "metadata": {
  "kernelspec": {
   "display_name": "Python 3 (ipykernel)",
   "language": "python",
   "name": "python3"
  },
  "language_info": {
   "codemirror_mode": {
    "name": "ipython",
    "version": 3
   },
   "file_extension": ".py",
   "mimetype": "text/x-python",
   "name": "python",
   "nbconvert_exporter": "python",
   "pygments_lexer": "ipython3",
   "version": "3.11.5"
  }
 },
 "nbformat": 4,
 "nbformat_minor": 5
}
