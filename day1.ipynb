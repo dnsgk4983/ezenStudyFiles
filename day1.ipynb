{
 "cells": [
  {
   "cell_type": "code",
   "execution_count": null,
   "id": "abb76d2d",
   "metadata": {},
   "outputs": [],
   "source": [
    "'''\n",
    "문자열 데이터 처리 응용\n",
    "원하는 위치에 %s, %d, %f 등을 사용해서 문자열 데이터 처리합니다.\n",
    "뒤에 사용할 변수 부분에 %로 처리합니다.\n",
    "%s = 문자열 변수 넣을 때\n",
    "%d = 정수형 변수 넣을 때\n",
    "%f = 정수형 변수 넣을 때\n",
    "'''"
   ]
  },
  {
   "cell_type": "code",
   "execution_count": 7,
   "id": "a76c9f4c",
   "metadata": {},
   "outputs": [
    {
     "name": "stdout",
     "output_type": "stream",
     "text": [
      "삼성전자 의 이번 2023년 3분기 당기 순이익은 2조원 입니다. 현재 결과는 미래를 보장해 주지는 않으니 참고하세요\n"
     ]
    }
   ],
   "source": [
    "a = \"삼성전자\"\n",
    "b = '의 이번 2023년 3분기 당기 순이익은 2조원 입니다.'\n",
    "c = 'LG전자'\n",
    "d = \"현재 결과는 미래를 보장해 주지는 않으니 참고하세요\"\n",
    "\n",
    "# 문자열 데이터 안에 원하는 변수를 넣고 아래처럼 처리\n",
    "p = '%s %s %s' %(a, b, d)\n",
    "print(p)"
   ]
  },
  {
   "cell_type": "code",
   "execution_count": 13,
   "id": "b45b91dc",
   "metadata": {},
   "outputs": [
    {
     "name": "stdout",
     "output_type": "stream",
     "text": [
      "삼성전자 의 이번 2023년 3분기 당기 순이익은 3조원 입니다. 현재 결과는 미래를 보장해 주지는 않으니 참고하세요\n"
     ]
    }
   ],
   "source": [
    "a = \"삼성전자\"\n",
    "b = '의 이번 2023년 3분기 당기 순이익은 2조원 입니다.'\n",
    "c = 'LG전자'\n",
    "d = \"현재 결과는 미래를 보장해 주지는 않으니 참고하세요\"\n",
    "e = 3\n",
    "h = 0.2\n",
    "\n",
    "p2 = '%s의 이번 2023년 3분기 당기 순이익은 %d조원 입니다. %s' %(a, e, d)\n",
    "p2 = '{} 의 이번 2023년 3분기 당기 순이익은 {}조원 입니다. {}'.format(a, e, d)\n",
    "print(p2)"
   ]
  },
  {
   "cell_type": "code",
   "execution_count": 19,
   "id": "cbd74b35",
   "metadata": {},
   "outputs": [
    {
     "data": {
      "text/plain": [
       "'LG전자의 이번 2023년 3분기 당기 순이익은 2조원 입니다.'"
      ]
     },
     "execution_count": 19,
     "metadata": {},
     "output_type": "execute_result"
    }
   ],
   "source": [
    "# 파이썬 기본함수\n",
    "# 특정 단어가 어디에 있는지 찾는 기능\n",
    "\n",
    "\"\"\"\n",
    "파이썬 문자열 관련 함수\n",
    "find, index 함수는 같은 기능을 하는데 에러메세지 유형이 다르다.\n",
    "find는 찾는 문자열이 없으면 -1,\n",
    "index는 찾는 문자열이 없으면 에러를 일으킨다.\n",
    "\"\"\"\n",
    "a = \"삼성전자\"\n",
    "d = \"현재 결과는 미래를 보장해 주지는 않으니 참고하세요...\"\n",
    "j = \"wElcome\"\n",
    "\n",
    "#문자개수 세기\n",
    "d.count(\"현\")\n",
    "d.count(\".\")\n",
    "\n",
    "#문자열 삽입 (예시에 주의)\n",
    "ttt = \" \"\n",
    "d.join(j)\n",
    "\n",
    "#대문자\n",
    "j.upper()\n",
    "\n",
    "#소문자\n",
    "j.lower()\n",
    "\n",
    "#문자열 변환 replace\n",
    "b = '삼성전자의 이번 2023년 3분기 당기 순이익은 2조원 입니다.'\n",
    "c = 'LG전자'\n",
    "b.replace(\"삼성전자\", \"LG디스플레이\")\n",
    "b.replace(\"삼성전자\", c)"
   ]
  },
  {
   "cell_type": "code",
   "execution_count": 20,
   "id": "55047280",
   "metadata": {},
   "outputs": [
    {
     "data": {
      "text/plain": [
       "['삼성전자의', '이번', '2023년', '3분기', '당기', '순이익은', '2조원', '입니다.']"
      ]
     },
     "execution_count": 20,
     "metadata": {},
     "output_type": "execute_result"
    }
   ],
   "source": [
    "# 문자열 나누기\n",
    "b = '삼성전자의 이번 2023년 3분기 당기 순이익은 2조원 입니다.'\n",
    "b.split()"
   ]
  },
  {
   "cell_type": "code",
   "execution_count": null,
   "id": "70837884",
   "metadata": {},
   "outputs": [],
   "source": [
    "'''\n",
    "순서형 자료구조: 데이터에 순서가 있어서 인덱스 가능\n",
    "\n",
    "리스트 : 가변 자료구조. 대괄호 사용 [1,2,3]\n",
    "중복리스트 가능 [1,2,[1,2,3]] 이미지 데이터 처리 시 많이 사용 (딥러닝)\n",
    "\n",
    "딕셔너리 : 가변 자료구조. 중괄호 사용. key와 value로 구성\n",
    "key는 데이터 제목 & value는 데이터 값 자체\n",
    "{\"캐릭터\": [마리오, 루이지], \"아이템\" : \"버섯\"}\n",
    "\n",
    "튜플 : 수정불가. 소괄호 사용 (1,2,3)\n",
    "수정 될 수 없는 중요한 변수나 데이터에 사용\n",
    "\n",
    "비순서형 자료구조: 데이터에 순서가 없고 중복을 허용하지 않는다\n",
    "집합: 가변 자료구조, 중복데이터 제거에 자주 쓰인다.\n",
    "'''"
   ]
  },
  {
   "cell_type": "code",
   "execution_count": 28,
   "id": "b45f459a",
   "metadata": {},
   "outputs": [
    {
     "name": "stdout",
     "output_type": "stream",
     "text": [
      "미래에셋증권의 2023년 4분기 영업이익은 1조입니다.\n",
      "미래에셋증권의 2024년 1분기 영업이익은 2조입니다.\n",
      "------------------------------------------\n",
      "한국투자의 2023년 4분기 영업이익은 5000억입니다.\n",
      "한국투자의 2024년 1분기 영업이익은 3000억입니다.\n",
      "------------------------------------------\n",
      "신한금투의 2023년 4분기 영업이익은 2000억입니다.\n",
      "신한금투의 2024년 1분기 영업이익은 8000억입니다.\n",
      "------------------------------------------\n",
      "kb증권의 2023년 4분기 영업이익은 400억입니다.\n",
      "kb증권의 2024년 1분기 영업이익은 1000억입니다.\n",
      "------------------------------------------\n",
      "미래에셋증권의 2023년 4분기 영업이익은 1조입니다.\n",
      "미래에셋증권의 2024년 1분기 영업이익은 2조입니다.\n",
      "------------------------------------------\n",
      "한국투자의 2023년 4분기 영업이익은 5000억입니다.\n",
      "한국투자의 2024년 1분기 영업이익은 3000억입니다.\n",
      "------------------------------------------\n",
      "신한금투의 2023년 4분기 영업이익은 2000억입니다.\n",
      "신한금투의 2024년 1분기 영업이익은 8000억입니다.\n",
      "------------------------------------------\n",
      "kb증권의 2023년 4분기 영업이익은 400억입니다.\n",
      "kb증권의 2024년 1분기 영업이익은 1000억입니다.\n"
     ]
    }
   ],
   "source": [
    "\"\"\"\n",
    "상황극 예제\n",
    "나님 회계사는 증권업계에 와서 감사 중이다.\n",
    "미래에셋증권, 한국투자, 신한금투, kb증권 4군데를 돌아야 하고\n",
    "2023년 4분기, 2024년 1분기 두 분기를 해야한다.\n",
    "각 회사의 분기 영업이익은 아래와 같다.\n",
    "1조, 2조   5000억, 3000억   2000억, 8000억   400억, 1000억\n",
    "아래의 감사결과를 바탕으로 각 회사의 감사결과를 변수처리하여 출력하시오.\n",
    "미래에셋증권의 2023년 4분기 영업이익은 1조입니다.\n",
    "\"\"\"\n",
    "\n",
    "a = \"미래에셋증권\"\n",
    "\n",
    "ad1 = \"1조\"\n",
    "ad2 = \"2조\"\n",
    "\n",
    "b = \"한국투자\"\n",
    "\n",
    "bd1 = \"5000억\"\n",
    "bd2 = \"3000억\"\n",
    "\n",
    "c = \"신한금투\"\n",
    "\n",
    "cd1 = \"2000억\"\n",
    "cd2 = \"8000억\"\n",
    "\n",
    "d = \"kb증권\"\n",
    "dd1 = \"400억\"\n",
    "dd2 = \"1000억\"\n",
    "\n",
    "\n",
    "tt1 = \"2023년 4분기\"\n",
    "tt2 = \"2024년 1분기\"\n",
    "\n",
    "print(\"%s의 %s 영업이익은 %s입니다.\" %(a, tt1, ad1))\n",
    "print(\"%s의 %s 영업이익은 %s입니다.\" %(a, tt2, ad2))\n",
    "print(\"------------------------------------------\")\n",
    "print(\"%s의 %s 영업이익은 %s입니다.\" %(b, tt1, bd1))\n",
    "print(\"%s의 %s 영업이익은 %s입니다.\" %(b, tt2, bd2))\n",
    "print(\"------------------------------------------\")\n",
    "print(\"%s의 %s 영업이익은 %s입니다.\" %(c, tt1, cd1))\n",
    "print(\"%s의 %s 영업이익은 %s입니다.\" %(c, tt2, cd2))\n",
    "print(\"------------------------------------------\")\n",
    "print(\"%s의 %s 영업이익은 %s입니다.\" %(d, tt1, dd1))\n",
    "print(\"%s의 %s 영업이익은 %s입니다.\" %(d, tt2, dd2))\n",
    "print(\"------------------------------------------\")\n",
    "print(\"{}의 {} 영업이익은 {}입니다.\".format(a, tt1, ad1))\n",
    "print(\"{}의 {} 영업이익은 {}입니다.\".format(a, tt2, ad2))\n",
    "print(\"------------------------------------------\")\n",
    "print(\"{}의 {} 영업이익은 {}입니다.\".format(b, tt1, bd1))\n",
    "print(\"{}의 {} 영업이익은 {}입니다.\".format(b, tt2, bd2))\n",
    "print(\"------------------------------------------\")\n",
    "print(\"{}의 {} 영업이익은 {}입니다.\".format(c, tt1, cd1))\n",
    "print(\"{}의 {} 영업이익은 {}입니다.\".format(c, tt2, cd2))\n",
    "print(\"------------------------------------------\")\n",
    "print(\"{}의 {} 영업이익은 {}입니다.\".format(d, tt1, dd1))\n",
    "print(\"{}의 {} 영업이익은 {}입니다.\".format(d, tt2, dd2))\n"
   ]
  },
  {
   "cell_type": "code",
   "execution_count": 34,
   "id": "c7e8612c",
   "metadata": {},
   "outputs": [
    {
     "data": {
      "text/plain": [
       "8"
      ]
     },
     "execution_count": 34,
     "metadata": {},
     "output_type": "execute_result"
    }
   ],
   "source": [
    "# 리스트 구조 예시\n",
    "u = [1,2, [7,8,9]]\n",
    "#인덱싱 슬라이싱\n",
    "u[0]\n",
    "u[2]# [7,8,9] 배열 전체가 하나의 원소로 간주된다.\n",
    "\n",
    "# 7 혹은 8만 따오고 싶다면?\n",
    "# 중복리스트 인덱싱 방법\n",
    "u[2][0] #7\n",
    "u[2][1] #8"
   ]
  },
  {
   "cell_type": "code",
   "execution_count": 49,
   "id": "1d0d6353",
   "metadata": {},
   "outputs": [
    {
     "data": {
      "text/plain": [
       "'zelle'"
      ]
     },
     "execution_count": 49,
     "metadata": {},
     "output_type": "execute_result"
    }
   ],
   "source": [
    "u = [1,2,[7,8,9,[\"zelle\"]]]\n",
    "\n",
    "u[2][3] # 리스트형 자료구조가 \"zelle\"\n",
    "u[2][3][0] # 문자열 데이터 \"zelle\"\n",
    "\n",
    "# 문자열로 출력하지 않고 싶을 경우\n",
    "# aa = u[2][3][0]\n",
    "# print(aa)"
   ]
  },
  {
   "cell_type": "code",
   "execution_count": 70,
   "id": "c0a01ef9",
   "metadata": {},
   "outputs": [
    {
     "data": {
      "text/plain": [
       "777"
      ]
     },
     "execution_count": 70,
     "metadata": {},
     "output_type": "execute_result"
    }
   ],
   "source": [
    "u = [1,2,[7,8,9,[\"zelle\", 777]]]\n",
    "\n",
    "u[-1][-1][-1]\n",
    "# -1이 맨 마지막 원소의 인덱싱이란 성질을 이용한 문제풀이\n",
    "# 훗날 코테 풀 때 사용가능"
   ]
  },
  {
   "cell_type": "code",
   "execution_count": 72,
   "id": "71bfd856",
   "metadata": {},
   "outputs": [
    {
     "name": "stdout",
     "output_type": "stream",
     "text": [
      "[2, 2, 3]\n"
     ]
    }
   ],
   "source": [
    "\"\"\"\n",
    "행렬의 연산\n",
    "행렬전체에 1씩 더하는 방법은?\n",
    "\"\"\"\n",
    "\n",
    "r = [1,2,3]\n",
    "# 행렬의 각 원소에 대한 계산을 하려면 행렬의 모든 원소에 직접 접근해야 한다.\n",
    "# 일반적인 연산자로 계산을 못하는 경우가 생김\n",
    "r[0] = 1+1\n",
    "r[1] = 2+1\n",
    "r[2] = 3+1\n",
    "print(r)\n",
    "\n",
    "#이러한 행렬계산을 위해서는 numpy라는 파이썬 라이브러리가 필요하다."
   ]
  },
  {
   "cell_type": "code",
   "execution_count": 79,
   "id": "25d5c834",
   "metadata": {},
   "outputs": [
    {
     "data": {
      "text/plain": [
       "array([2, 3, 4])"
      ]
     },
     "execution_count": 79,
     "metadata": {},
     "output_type": "execute_result"
    }
   ],
   "source": [
    "#numpy 라는 라이브러리를 impport로 불러서 이름을 np라고 정의한다.\n",
    "# import numpy\n",
    "import numpy as np\n",
    "r = [1,2,3]\n",
    "# 라이브러리의 행렬연산기능을 활성화하여 k라는 변수에 저장\n",
    "# k = numpy.array(r)\n",
    "k = np.array(r)\n",
    "k+1"
   ]
  },
  {
   "cell_type": "code",
   "execution_count": 87,
   "id": "67c1fe2b",
   "metadata": {},
   "outputs": [
    {
     "data": {
      "text/plain": [
       "['', 2, 3]"
      ]
     },
     "execution_count": 87,
     "metadata": {},
     "output_type": "execute_result"
    }
   ],
   "source": [
    "# 행렬의 성질2\n",
    "\n",
    "r = [1,2,3]\n",
    "p = [4,5,6]\n",
    "# 두 리스트의 확장\n",
    "r + p"
   ]
  },
  {
   "cell_type": "code",
   "execution_count": 88,
   "id": "550c0ef5",
   "metadata": {},
   "outputs": [
    {
     "data": {
      "text/plain": [
       "['', 2, 3]"
      ]
     },
     "execution_count": 88,
     "metadata": {},
     "output_type": "execute_result"
    }
   ],
   "source": [
    "# 리스트에서 데이터 삭제\n",
    "# r[0] = []\n",
    "r[0] = \"\"\n",
    "r"
   ]
  },
  {
   "cell_type": "code",
   "execution_count": 89,
   "id": "116ca320",
   "metadata": {},
   "outputs": [
    {
     "data": {
      "text/plain": [
       "[2, 3]"
      ]
     },
     "execution_count": 89,
     "metadata": {},
     "output_type": "execute_result"
    }
   ],
   "source": [
    "# 주의 : 삭제 함수는 두 번 클릭하지 마세요\n",
    "del r[0]\n",
    "r"
   ]
  },
  {
   "cell_type": "code",
   "execution_count": 104,
   "id": "7c3d6dad",
   "metadata": {},
   "outputs": [
    {
     "name": "stdout",
     "output_type": "stream",
     "text": [
      "[1, 2, 3, [4, 5]]\n"
     ]
    }
   ],
   "source": [
    "# r = [1,,2,3]\n",
    "# 위에꺼 [1,2,3,4]로 만들어주세요\n",
    "r = [1,2,3]\n",
    "ppp = [4,5]\n",
    "\n",
    "# 둘 다 리스트형 자료구조에 데이터를 추가하는 명령어인데\n",
    "# extend를 쓰면 원소별로 쪼개져서 들어오고\n",
    "# append를 쓰면 리스트형 자료구조가 보존되어 단일 데이터로 들어온다.\n",
    "# r.extend(ppp)\n",
    "r.append(ppp)\n",
    "print(r)"
   ]
  },
  {
   "cell_type": "code",
   "execution_count": 108,
   "id": "f5dc9baf",
   "metadata": {},
   "outputs": [
    {
     "data": {
      "text/plain": [
       "[1, 2, 3, 5, 6, 7, 23, 78, 9568]"
      ]
     },
     "execution_count": 108,
     "metadata": {},
     "output_type": "execute_result"
    }
   ],
   "source": [
    "# 리스트 정렬 - sort\n",
    "\n",
    "aaa = [1, 6, 2, 5, 78, 3, 23, 7, 9568] # 동일한 자료형이여야 한다 // 문자열 포함이 되어선 안됨\n",
    "# 소수점은 문제없음\n",
    "aaa.sort()\n",
    "aaa\n",
    "\n"
   ]
  },
  {
   "cell_type": "code",
   "execution_count": 115,
   "id": "3813e93a",
   "metadata": {},
   "outputs": [
    {
     "data": {
      "text/plain": [
       "[3, 2, 1]"
      ]
     },
     "execution_count": 115,
     "metadata": {},
     "output_type": "execute_result"
    }
   ],
   "source": [
    "# reverse는 전체 배열의 순서를 뒤집는다.\n",
    "# 뒤집는다는 의미가 역숙으로 정렬한다는건 아니다.\n",
    "my_list = [1,2,3]\n",
    "my_list.reverse()\n",
    "my_list"
   ]
  },
  {
   "cell_type": "code",
   "execution_count": 116,
   "id": "0b849347",
   "metadata": {},
   "outputs": [
    {
     "data": {
      "text/plain": [
       "1"
      ]
     },
     "execution_count": 116,
     "metadata": {},
     "output_type": "execute_result"
    }
   ],
   "source": [
    "# 그 값이 어디있는지 찾는다\n",
    "my_list = [1, 2, 3, 9, 4]\n",
    "my_list.index(2)"
   ]
  },
  {
   "cell_type": "code",
   "execution_count": 117,
   "id": "bf74c1d4",
   "metadata": {},
   "outputs": [
    {
     "data": {
      "text/plain": [
       "[1, 777, 2, 3, 9, 4]"
      ]
     },
     "execution_count": 117,
     "metadata": {},
     "output_type": "execute_result"
    }
   ],
   "source": [
    "my_list = [1, 2, 3, 9, 4]\n",
    "my_list.insert(1, 777)\n",
    "my_list"
   ]
  },
  {
   "cell_type": "code",
   "execution_count": 118,
   "id": "9b60ba0f",
   "metadata": {},
   "outputs": [
    {
     "data": {
      "text/plain": [
       "2"
      ]
     },
     "execution_count": 118,
     "metadata": {},
     "output_type": "execute_result"
    }
   ],
   "source": [
    "# 왜 리스트는 스택형 자료구조인지 알 수 있는가?\n",
    "my_list = [1, 2, 3, 4, 2]\n",
    "kkk = my_list.pop() # 리스트의 마지막 요소 제거\n",
    "kkk # 성공하면 날아간 데이터를 출력해 준다"
   ]
  },
  {
   "cell_type": "code",
   "execution_count": 119,
   "id": "f7b3f3a9",
   "metadata": {},
   "outputs": [
    {
     "data": {
      "text/plain": [
       "[1, 3, 4, 2]"
      ]
     },
     "execution_count": 119,
     "metadata": {},
     "output_type": "execute_result"
    }
   ],
   "source": [
    "# 데이터를 지울 때 remove 도 있다.\n",
    "my_list = [1, 2, 3, 4, 2]\n",
    "my_list.remove(2) # 없애고 싶은 첫번째 데이터\n",
    "my_list"
   ]
  },
  {
   "cell_type": "code",
   "execution_count": 121,
   "id": "2b3f1d83",
   "metadata": {},
   "outputs": [
    {
     "ename": "TypeError",
     "evalue": "'tuple' object doesn't support item deletion",
     "output_type": "error",
     "traceback": [
      "\u001b[1;31m---------------------------------------------------------------------------\u001b[0m",
      "\u001b[1;31mTypeError\u001b[0m                                 Traceback (most recent call last)",
      "Cell \u001b[1;32mIn[121], line 3\u001b[0m\n\u001b[0;32m      1\u001b[0m \u001b[38;5;66;03m# 튜플형 자료구조는 데이터 삭제 불가\u001b[39;00m\n\u001b[0;32m      2\u001b[0m zz \u001b[38;5;241m=\u001b[39m (\u001b[38;5;241m1\u001b[39m,\u001b[38;5;241m2\u001b[39m,\u001b[38;5;241m3\u001b[39m)\n\u001b[1;32m----> 3\u001b[0m \u001b[38;5;28;01mdel\u001b[39;00m zz[\u001b[38;5;241m1\u001b[39m]\n",
      "\u001b[1;31mTypeError\u001b[0m: 'tuple' object doesn't support item deletion"
     ]
    }
   ],
   "source": [
    "# 튜플형 자료구조는 데이터 삭제 불가\n",
    "zz = (1,2,3)\n",
    "del zz[1]"
   ]
  },
  {
   "cell_type": "code",
   "execution_count": null,
   "id": "3a6853ed",
   "metadata": {},
   "outputs": [],
   "source": []
  }
 ],
 "metadata": {
  "kernelspec": {
   "display_name": "Python 3 (ipykernel)",
   "language": "python",
   "name": "python3"
  },
  "language_info": {
   "codemirror_mode": {
    "name": "ipython",
    "version": 3
   },
   "file_extension": ".py",
   "mimetype": "text/x-python",
   "name": "python",
   "nbconvert_exporter": "python",
   "pygments_lexer": "ipython3",
   "version": "3.11.5"
  }
 },
 "nbformat": 4,
 "nbformat_minor": 5
}
