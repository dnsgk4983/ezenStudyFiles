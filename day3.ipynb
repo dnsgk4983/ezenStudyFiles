{
 "cells": [
  {
   "cell_type": "markdown",
   "id": "5b0a7f94",
   "metadata": {},
   "source": [
    "while문은 조건을 만족하는 동안 끊임없이 반복시키는 명령문이다.\n",
    "\n",
    "자료형의 참 거짓을 통해 컨트롤하며\n",
    "자료형의 참 거짓은 데이터의 유무와 비교연산 등을 통해  결정한다."
   ]
  },
  {
   "cell_type": "code",
   "execution_count": 4,
   "id": "25e29d9b",
   "metadata": {
    "scrolled": true
   },
   "outputs": [
    {
     "name": "stdout",
     "output_type": "stream",
     "text": [
      "현재 count 값은 0\n",
      "현재 count 값은 1\n",
      "현재 count 값은 2\n",
      "현재 count 값은 3\n",
      "현재 count 값은 4\n",
      "전부 끝났습니다.\n"
     ]
    }
   ],
   "source": [
    "# 0에서 4까지 순차적으로 값을 출력한 후 멈추는 예제\n",
    "\n",
    "count = 0 # count 변수에 최초값 0 부여\n",
    "while count < 5 : # :이 들어가야 합니다.\n",
    "    print(\"현재 count 값은\", count ) # 현재 count 상태를 출력\n",
    "    count = count+1 # 1을 더합니다.\n",
    "\n",
    "print(\"전부 끝났습니다.\")"
   ]
  },
  {
   "cell_type": "code",
   "execution_count": 12,
   "id": "f7925b92",
   "metadata": {},
   "outputs": [
    {
     "name": "stdout",
     "output_type": "stream",
     "text": [
      "나무를 1번 찍었습니다\n",
      "나무를 2번 찍었습니다\n",
      "나무를 3번 찍었습니다\n",
      "나무를 4번 찍었습니다\n",
      "나무를 5번 찍었습니다\n",
      "나무를 6번 찍었습니다\n",
      "나무를 7번 찍었습니다\n",
      "나무를 8번 찍었습니다\n",
      "나무를 9번 찍었습니다\n",
      "나무를 10번 찍었습니다\n",
      "나무가 넘어갑니다.\n"
     ]
    }
   ],
   "source": [
    "# 나무를 1번에서 10번 찍고 다 찍으면 나무가 넘어간다고 말하기\n",
    "# while문에서는 조건의 참 거짓을 판단하는 초기변수가 보통은 필요합니다.\n",
    "# 파이썬은 코드를 위에서 아래로 읽으므로 순서에 주의한다.\n",
    "# boundary condition에 주의\n",
    "\n",
    "treehit = 0\n",
    "while treehit < 10 : # treehit이 10 미만일 때 까지는 참 조건이 유지됨\n",
    "    treehit = treehit+1 # 작업이 끝나고 변수를 1씩 증가 시킨다.\n",
    "    print(\"나무를 %d번 찍었습니다\" % treehit) \n",
    "print(\"나무가 넘어갑니다.\")"
   ]
  },
  {
   "cell_type": "code",
   "execution_count": 26,
   "id": "79b91857",
   "metadata": {},
   "outputs": [
    {
     "name": "stdout",
     "output_type": "stream",
     "text": [
      "돈을 받았으니 커피를 줍니다.\n",
      "남은 커피는 9잔 입니다. 현재 남은 잔액은 270원 입니다.\n",
      "돈을 받았으니 커피를 줍니다.\n",
      "남은 커피는 8잔 입니다. 현재 남은 잔액은 240원 입니다.\n",
      "돈을 받았으니 커피를 줍니다.\n",
      "남은 커피는 7잔 입니다. 현재 남은 잔액은 210원 입니다.\n",
      "돈을 받았으니 커피를 줍니다.\n",
      "남은 커피는 6잔 입니다. 현재 남은 잔액은 180원 입니다.\n",
      "돈을 받았으니 커피를 줍니다.\n",
      "남은 커피는 5잔 입니다. 현재 남은 잔액은 150원 입니다.\n",
      "돈을 받았으니 커피를 줍니다.\n",
      "남은 커피는 4잔 입니다. 현재 남은 잔액은 120원 입니다.\n",
      "돈을 받았으니 커피를 줍니다.\n",
      "남은 커피는 3잔 입니다. 현재 남은 잔액은 90원 입니다.\n",
      "돈을 받았으니 커피를 줍니다.\n",
      "남은 커피는 2잔 입니다. 현재 남은 잔액은 60원 입니다.\n",
      "돈을 받았으니 커피를 줍니다.\n",
      "남은 커피는 1잔 입니다. 현재 남은 잔액은 30원 입니다.\n",
      "돈을 받았으니 커피를 줍니다.\n",
      "남은 커피는 0잔 입니다. 현재 남은 잔액은 0원 입니다.\n",
      "판매중지\n"
     ]
    }
   ],
   "source": [
    "# break 문의 사용: 특정 조건을 만족할 경우, 강제로 반복문 빠져 나가기\n",
    "# 커피를 10잔부터 1잔씩 내주면서 커피가 떨어지면 나가기\n",
    "# 개선이 필요한 사항\n",
    "# 1 . money라는 상관없는 변수 포함\n",
    "# 2. 변수처리도 안하고 True라고 하드코딩 (무한루프의 소지가 있음)\n",
    "coffee = 10\n",
    "money = 300\n",
    "\n",
    "while money > 0 or coffee > 0 :\n",
    "    print(\"돈을 받았으니 커피를 줍니다.\")\n",
    "    money = money - 30\n",
    "    coffee = coffee - 1\n",
    "    print(\"남은 커피는 %d잔 입니다. 현재 남은 잔액은 %d원 입니다.\" % (coffee, money))\n",
    "    \n",
    "    if money == 0 or coffee == 0 :\n",
    "        print(\"판매중지\")\n",
    "        break\n",
    "    "
   ]
  },
  {
   "cell_type": "code",
   "execution_count": 7,
   "id": "4a754554",
   "metadata": {},
   "outputs": [
    {
     "name": "stdout",
     "output_type": "stream",
     "text": [
      "정수를 입력해 주시기 바랍니다. : 23\n",
      "축하합니다. 정확히 맞추셨어요.\n",
      "끝입니다\n"
     ]
    }
   ],
   "source": [
    "number = 23\n",
    "running = True\n",
    "\n",
    "while running: \n",
    "    guess = int(input('정수를 입력해 주시기 바랍니다. : '))\n",
    "    if number == guess:\n",
    "        print('축하합니다. 정확히 맞추셨어요.')\n",
    "        break # running = False\n",
    "    elif guess < number:\n",
    "        print('아니오, 그거보다 커야해요')\n",
    "    elif guess > number:\n",
    "        print('아니오, 그거보다 작아야해요')\n",
    "print('끝입니다')"
   ]
  },
  {
   "cell_type": "markdown",
   "id": "b8186415",
   "metadata": {},
   "source": [
    "1부터 10까지의 숫자 중에서 홀수만 출력하는 것을 while 문을 사용해서 작성한다고 생각해보자.\n",
    "\n",
    "1. 조건에 맞는 수만 출력\n",
    "2. 조건에 안맞는 수 건너뛰기\n",
    "\n",
    "홀짝은 2로 나눴을 때 나머지가 0인지 본다"
   ]
  },
  {
   "cell_type": "code",
   "execution_count": 9,
   "id": "7c949462",
   "metadata": {
    "scrolled": false
   },
   "outputs": [
    {
     "name": "stdout",
     "output_type": "stream",
     "text": [
      "1\n",
      "3\n",
      "5\n",
      "7\n",
      "9\n"
     ]
    }
   ],
   "source": [
    "a = 0\n",
    "\n",
    "while a < 10:\n",
    "    a = a + 1\n",
    "    if a % 2 == 0: # if로 짝수인 경우를 확인한다\n",
    "        continue # 짝수면 건너뛴다.\n",
    "    print(a)\n",
    "# 위 예제를 참고하여 조건에 맞으면 print 하도록 바꿔주세요."
   ]
  },
  {
   "cell_type": "code",
   "execution_count": null,
   "id": "141538a2",
   "metadata": {},
   "outputs": [],
   "source": [
    "b = 0\n",
    "\n",
    "# 홀수 출력\n",
    "while b < 10:\n",
    "    b = b + 1\n",
    "    if b % 2 != 0: # 나머지가 0이 아니다 라고 말함.\n",
    "        print(b)\n",
    "        \n",
    "# 짝수 출력\n",
    "# while b < 10:\n",
    "#     b = b + 1\n",
    "#     if b % 2 == 0: \n",
    "#         print(b)"
   ]
  },
  {
   "cell_type": "code",
   "execution_count": 3,
   "id": "23110676",
   "metadata": {},
   "outputs": [
    {
     "name": "stdout",
     "output_type": "stream",
     "text": [
      "one\n",
      "two\n",
      "three\n",
      "one\n",
      "two\n",
      "three\n"
     ]
    }
   ],
   "source": [
    "test_list = ['one', 'two', 'three']\n",
    "# 데이터셋 안에 개별 요소에 직접 접근\n",
    "for i in test_list:\n",
    "    print(i)\n",
    "    \n",
    "# 데이터 인덱스(순번)을 받아서\n",
    "for xxx in range(3):\n",
    "    print(test_list[xxx]) # 데이터셋 안에 몇번째라고 말하면서 출력"
   ]
  },
  {
   "cell_type": "code",
   "execution_count": 20,
   "id": "0fc4b197",
   "metadata": {},
   "outputs": [
    {
     "name": "stdout",
     "output_type": "stream",
     "text": [
      "3\n",
      "7\n",
      "11\n"
     ]
    }
   ],
   "source": [
    "# 2중 자료구조도 무리없이 for문 수행 가능\n",
    "a = [(1, 2), (3, 4), (5, 6)]\n",
    "# 데이터셋 안에 원소가 3개 있는데 개별 원소가 2개의 데이터로 이루어 짐\n",
    "\n",
    "for (i,j) in a:\n",
    "    print(i+j)\n",
    "\n",
    "# hint : for 문안에 개별원소를 어떻게 바라보느냐?\n",
    "# i로 두고 (1,2)의 데이터셋 아니면\n",
    "# i, j로 데이터셋을 개별 데이터로 따로 바라보나"
   ]
  },
  {
   "cell_type": "markdown",
   "id": "b8dfcf08",
   "metadata": {},
   "source": [
    "총 5명의 학생이 시험을 보았는데 시험 점수가 60점 이상이면 합격이고 그렇지 않으면 불합격이다. 합격인지 불합격인지 결과를 보여주시오."
   ]
  },
  {
   "cell_type": "code",
   "execution_count": 42,
   "id": "50619829",
   "metadata": {},
   "outputs": [
    {
     "name": "stdout",
     "output_type": "stream",
     "text": [
      "1번째 학생 90점 합격\n",
      "2번째 학생 25점 불합격\n",
      "3번째 학생 67점 합격\n",
      "4번째 학생 45점 불합격\n",
      "5번째 학생 80점 합격\n"
     ]
    }
   ],
   "source": [
    "marks = [90, 25, 67, 45, 80]\n",
    "\n",
    "number = 1 # 학생번호\n",
    "for i in marks: # 데이터셋안에 개별 점수에 접근해서\n",
    "    if i >= 60: # 개별점수를 가지고 조건문 실행\n",
    "        print(\"%d번째 학생 %d점 합격\" % (number, i))\n",
    "    else: \n",
    "        print(\"%d번째 학생 %d점 불합격\" % (number,i))\n",
    "    number += 1 # 다음 학생으로  넘어가야 하니까 +1 잊지말자"
   ]
  },
  {
   "cell_type": "markdown",
   "id": "9f4a1915",
   "metadata": {},
   "source": [
    "for 문과 함께 자주 사용하는 range 함수\n",
    "\n",
    "다음은 range 함수의 간단한 사용법이다."
   ]
  },
  {
   "cell_type": "code",
   "execution_count": 43,
   "id": "4b5fe43a",
   "metadata": {},
   "outputs": [
    {
     "name": "stdout",
     "output_type": "stream",
     "text": [
      "0\n",
      "1\n",
      "2\n",
      "3\n",
      "4\n",
      "5\n",
      "6\n",
      "7\n",
      "8\n",
      "9\n"
     ]
    }
   ],
   "source": [
    "a = range(10) # 10 미만의 수\n",
    "for i in a:\n",
    "    print(i)"
   ]
  },
  {
   "cell_type": "markdown",
   "id": "82564098",
   "metadata": {},
   "source": [
    "시작 숫자와 끝 숫자를 지정하려면 range(시작_숫자, 끝_숫자)"
   ]
  },
  {
   "cell_type": "code",
   "execution_count": 44,
   "id": "7df707a5",
   "metadata": {},
   "outputs": [
    {
     "name": "stdout",
     "output_type": "stream",
     "text": [
      "1\n",
      "2\n",
      "3\n",
      "4\n",
      "5\n",
      "6\n",
      "7\n",
      "8\n",
      "9\n",
      "10\n"
     ]
    }
   ],
   "source": [
    "a = range(1, 11)\n",
    "for i in a:\n",
    "    print(i)"
   ]
  },
  {
   "cell_type": "code",
   "execution_count": 74,
   "id": "6d511e1b",
   "metadata": {},
   "outputs": [
    {
     "name": "stdout",
     "output_type": "stream",
     "text": [
      "55\n"
     ]
    }
   ],
   "source": [
    "# 1에서 10까지 정수의 합을 range랑 for문으로 해보세요.\n",
    "# 정수의 합을 담을 변수를 초기에 선언해야 합니다.\n",
    "\n",
    "# a = range(1, 11)\n",
    "sum = 0\n",
    "for i in range(1, 11):\n",
    "    sum = sum + i # 개별원소를 정수의 합 변수에 하나씩 더합니다.\n",
    "print(sum) # 들여쓰기 여부에 따라 과정전체 출력 혹은 최종결과만 출력\n",
    "    "
   ]
  },
  {
   "cell_type": "code",
   "execution_count": 80,
   "id": "63cafbf9",
   "metadata": {},
   "outputs": [
    {
     "name": "stdout",
     "output_type": "stream",
     "text": [
      "1번째 학생 90점 합격\n",
      "2번째 학생 25점 불합격\n",
      "3번째 학생 67점 합격\n",
      "4번째 학생 45점 불합격\n",
      "5번째 학생 80점 합격\n"
     ]
    }
   ],
   "source": [
    "# 만약에 5라고 쓰지않고 뭔가 개발자 스럽게 하려면?\n",
    "marks = [90, 25, 67, 45, 80]\n",
    "for i in range(len(marks)): \n",
    "    if marks[i] >= 60: \n",
    "        print(\"%d번째 학생 %d점 합격\" % (i+1, marks[i]))\n",
    "    else: \n",
    "        print(\"%d번째 학생 %d점 불합격\" % (i+1, marks[i]))"
   ]
  },
  {
   "cell_type": "code",
   "execution_count": 86,
   "id": "a2d43b3e",
   "metadata": {},
   "outputs": [
    {
     "name": "stdout",
     "output_type": "stream",
     "text": [
      "2\n",
      "2 4 6 8 10 12 14 16 18 \n",
      "3\n",
      "3 6 9 12 15 18 21 24 27 \n",
      "4\n",
      "4 8 12 16 20 24 28 32 36 \n",
      "5\n",
      "5 10 15 20 25 30 35 40 45 \n",
      "6\n",
      "6 12 18 24 30 36 42 48 54 \n",
      "7\n",
      "7 14 21 28 35 42 49 56 63 \n",
      "8\n",
      "8 16 24 32 40 48 56 64 72 \n",
      "9\n",
      "9 18 27 36 45 54 63 72 81 \n"
     ]
    }
   ],
   "source": [
    "# 2중 for문을 이용한 구구단 출력 예제\n",
    "# 구구단은 2~9단까지 1~9를 곱해서 나온다.\n",
    "# 2~9단인 바깥 for문과 1~9를 곱하는 안쪽 for문으로 이루어진다.\n",
    "\n",
    "for i in range(2, 10):\n",
    "    print(i) # 중간과정 체크\n",
    "    for j in range(1, 10):\n",
    "        print(i*j, end=\" \")\n",
    "    #바깥쪽 for 문 소속으로 print 걸어서 각 단이 끝날 때마다 줄바꿈\n",
    "    print()"
   ]
  },
  {
   "cell_type": "code",
   "execution_count": 92,
   "id": "5b94ee88",
   "metadata": {},
   "outputs": [
    {
     "name": "stdout",
     "output_type": "stream",
     "text": [
      "[3, 6, 9, 12]\n"
     ]
    }
   ],
   "source": [
    "# for문을 이용한 3을 곱셈 후 새로운 데이터셋 저장\n",
    "a = [1,2,3,4]\n",
    "result = []\n",
    "for i in a:\n",
    "    result.append(i * 3)\n",
    "    \n",
    "print(result) # for문이 끝나고 새로운 데이터셋 출력"
   ]
  },
  {
   "cell_type": "markdown",
   "id": "09066673",
   "metadata": {},
   "source": [
    "### 리스트 자료구조안에 for문을 다이렉트로 쓰는 리스트 컴프리헨션(list comprehension)을 사용하면 좀 더 편리하고 직관적인 프로그램을 만들 수 있다."
   ]
  },
  {
   "cell_type": "code",
   "execution_count": 93,
   "id": "f1f879a3",
   "metadata": {},
   "outputs": [
    {
     "name": "stdout",
     "output_type": "stream",
     "text": [
      "[3, 6, 9, 12]\n"
     ]
    }
   ],
   "source": [
    "a = [1, 2, 3, 4]\n",
    "result = [ i * 3 for i in a ]\n",
    "print(result)"
   ]
  },
  {
   "cell_type": "markdown",
   "id": "b3f84c1f",
   "metadata": {},
   "source": [
    "[1,2,3,4] 중에서 짝수에만 3을 곱하여 담고 싶다면 리스트 컴프리헨션 안에 'if 조건문' 을 사용하면 된다."
   ]
  },
  {
   "cell_type": "code",
   "execution_count": 94,
   "id": "a21c0cdc",
   "metadata": {},
   "outputs": [
    {
     "name": "stdout",
     "output_type": "stream",
     "text": [
      "[6, 12]\n"
     ]
    }
   ],
   "source": [
    "a = [1, 2, 3, 4]\n",
    "result = [i * 3 for i in a if i % 2 == 0 ]\n",
    "print(result)"
   ]
  },
  {
   "cell_type": "markdown",
   "id": "2fac433d",
   "metadata": {},
   "source": [
    "리스트 컴프리헨션의 문법은 다음과 같다. 'if 조건문' 부분은 앞의 예제에서 볼 수 있듯이 생략 할 수 있다.\n",
    "\n",
    "[표현식 for 개별항목 in 데이터셋 if 조건문]"
   ]
  },
  {
   "cell_type": "markdown",
   "id": "99833a6f",
   "metadata": {},
   "source": [
    "만약 구구단의 모든 결과를 리스트에 담고 싶다면 리스트 컴프리헨션을 사용하여 다음과 같이 간단하게 구현 할 수도 있다."
   ]
  },
  {
   "cell_type": "code",
   "execution_count": 95,
   "id": "fc70f651",
   "metadata": {},
   "outputs": [
    {
     "name": "stdout",
     "output_type": "stream",
     "text": [
      "[2, 4, 6, 8, 10, 12, 14, 16, 18, 3, 6, 9, 12, 15, 18, 21, 24, 27, 4, 8, 12, 16, 20, 24, 28, 32, 36, 5, 10, 15, 20, 25, 30, 35, 40, 45, 6, 12, 18, 24, 30, 36, 42, 48, 54, 7, 14, 21, 28, 35, 42, 49, 56, 63, 8, 16, 24, 32, 40, 48, 56, 64, 72, 9, 18, 27, 36, 45, 54, 63, 72, 81]\n"
     ]
    }
   ],
   "source": [
    "result = [i*j for i in range(2, 10) for j in range(1, 10)]\n",
    "print(result)"
   ]
  },
  {
   "cell_type": "code",
   "execution_count": 103,
   "id": "c8829e9e",
   "metadata": {},
   "outputs": [
    {
     "name": "stdout",
     "output_type": "stream",
     "text": [
      "현재 count 값: 0\n",
      "현재 count 값: 1\n",
      "현재 count 값: 2\n",
      "현재 count 값: 4\n"
     ]
    }
   ],
   "source": [
    "# 지금의 코드를 수정해서 3빼고 0, 1, 2, 4 출력되게 해주세요\n",
    "# break 는 그냥 코드 종료\n",
    "# if문과 continue 사용 시 반드시 반복문 변수 체크\n",
    "\n",
    "count = 0\n",
    "\n",
    "#---------------------------------------\n",
    "\n",
    "while count < 5:\n",
    "    if count == 3:\n",
    "        count += 1 # 원치않는 조건을 건너뛰니까 count가 더해지는 로직 추가\n",
    "        continue # 원하지 않는 조건은 제낍니다.\n",
    "    print(\"현재 count 값:\", count)\n",
    "    count += 1\n",
    "\n",
    "#---------------------------------------\n",
    "\n",
    "# while count < 5:\n",
    "#     if count != 3:\n",
    "#         print(\"현재 count 값:\", count)\n",
    "#     count += 1\n",
    "    \n",
    "#---------------------------------------\n",
    "    \n",
    "# for i in range(0, 5):\n",
    "#     if i != 3:\n",
    "#         print(\"현재 count 값:\", i)\n",
    "\n",
    "#---------------------------------------"
   ]
  },
  {
   "cell_type": "markdown",
   "id": "21492af0",
   "metadata": {},
   "source": [
    "### 딕셔너리 자료 구조에서 for문 사용 예시"
   ]
  },
  {
   "cell_type": "code",
   "execution_count": 171,
   "id": "3e3f59d8",
   "metadata": {},
   "outputs": [
    {
     "name": "stdout",
     "output_type": "stream",
     "text": [
      "광해\n",
      "관상\n",
      "누적 관객수 = 2100\n"
     ]
    }
   ],
   "source": [
    "# {key : [val1, val2]} - {'영화' : [ 평점, 관객수 = 만명 ]}\n",
    "\n",
    "#-----------------------------------------------------------\n",
    "\n",
    "movie = { '광해' : [9.24, 1200], '공작' : [7.86, 500], '관상' : [8.01, 900]}\n",
    "\n",
    "#-----------------------------------------------------------\n",
    "\n",
    "# 1. for문으로 딕셔너리에서 key값들만 한줄씩 출력해 주세요\n",
    "# for i in movie.keys():\n",
    "#     print(i, end=\" \")\n",
    "\n",
    "#-----------------------------------------------------------\n",
    "\n",
    "# 2. for문으로 딕셔너리에서 value값들만 한줄씩 출력해 주세요\n",
    "# for i in movie.values():\n",
    "#     print(i)\n",
    "\n",
    "#-----------------------------------------------------------\n",
    "\n",
    "# 3. for문으로 딕셔너리에서 key & value 값 둘 다 한줄씩 출력해 주세요.\n",
    "# for i in movie.items():\n",
    "#     print(i)\n",
    "    \n",
    "#-----------------------------------------------------------\n",
    "\n",
    "# 4. 3번 문제에서 key와 value를 쪼개서 출력해 주세요.\n",
    "# for (i,j) in movie.items():\n",
    "#     print(i,j)\n",
    "    \n",
    "#-----------------------------------------------------------\n",
    "\n",
    "#데이터 전처리 후 데이터 분석을 하기 위한 build-up\n",
    "\n",
    "result = 0\n",
    "\n",
    "for zz, k in movie.items():\n",
    "    if k[0] >= 8:\n",
    "        result = result + k[1]\n",
    "        print(zz)\n",
    "        \n",
    "print(\"누적 관객수 = %d\" % result)\n",
    "    "
   ]
  },
  {
   "cell_type": "code",
   "execution_count": null,
   "id": "ab067107",
   "metadata": {},
   "outputs": [],
   "source": []
  }
 ],
 "metadata": {
  "kernelspec": {
   "display_name": "Python 3 (ipykernel)",
   "language": "python",
   "name": "python3"
  },
  "language_info": {
   "codemirror_mode": {
    "name": "ipython",
    "version": 3
   },
   "file_extension": ".py",
   "mimetype": "text/x-python",
   "name": "python",
   "nbconvert_exporter": "python",
   "pygments_lexer": "ipython3",
   "version": "3.11.5"
  }
 },
 "nbformat": 4,
 "nbformat_minor": 5
}
