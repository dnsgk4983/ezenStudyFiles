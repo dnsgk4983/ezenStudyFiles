{
 "cells": [
  {
   "cell_type": "markdown",
   "id": "d53ef3fa",
   "metadata": {},
   "source": [
    "함수를 외부 파일로 분리했을 때 이점 2가지\n",
    "1. 코드 권한통제: 소스코드에 대한 보호\n",
    "2. 강화된 보안"
   ]
  },
  {
   "cell_type": "code",
   "execution_count": null,
   "id": "6616db20",
   "metadata": {},
   "outputs": [],
   "source": [
    "함수에서 번거로운 점은 인풋 데이터를 전부 지정해야 한다."
   ]
  },
  {
   "cell_type": "code",
   "execution_count": 3,
   "id": "8e39212c",
   "metadata": {},
   "outputs": [
    {
     "data": {
      "text/plain": [
       "3"
      ]
     },
     "execution_count": 3,
     "metadata": {},
     "output_type": "execute_result"
    }
   ],
   "source": [
    "# 두 수를 더할 때 함수 예시\n",
    "def add2(a, b):\n",
    "    return a + b\n",
    "\n",
    "add2(1, 2)"
   ]
  },
  {
   "cell_type": "code",
   "execution_count": 4,
   "id": "b911f290",
   "metadata": {},
   "outputs": [
    {
     "data": {
      "text/plain": [
       "6"
      ]
     },
     "execution_count": 4,
     "metadata": {},
     "output_type": "execute_result"
    }
   ],
   "source": [
    "# 세 수를 더할 때 함수 예시\n",
    "def add3(a, b, c):\n",
    "    return a + b + c\n",
    "\n",
    "add3(1, 2, 3)"
   ]
  },
  {
   "cell_type": "code",
   "execution_count": 5,
   "id": "14f2d335",
   "metadata": {},
   "outputs": [
    {
     "data": {
      "text/plain": [
       "10"
      ]
     },
     "execution_count": 5,
     "metadata": {},
     "output_type": "execute_result"
    }
   ],
   "source": [
    "# 네 수를 더할 때 함수 예시\n",
    "def add3(a, b, c, d):\n",
    "    return a + b + c + d\n",
    "\n",
    "add3(1, 2, 3, 4)"
   ]
  },
  {
   "cell_type": "code",
   "execution_count": 21,
   "id": "e20431d8",
   "metadata": {},
   "outputs": [
    {
     "name": "stdout",
     "output_type": "stream",
     "text": [
      "21\n"
     ]
    }
   ],
   "source": [
    "a = [1, 2, 3, 4, 5, 6]\n",
    "result = 0\n",
    "for num in a:\n",
    "    result += num\n",
    "print(result)"
   ]
  },
  {
   "cell_type": "code",
   "execution_count": 11,
   "id": "f50c42f5",
   "metadata": {},
   "outputs": [],
   "source": [
    "# 가변 인수: 같은 데이터 타이브이 인풋데이터는 *a 이렇게 앞에 *를 붙인다.\n",
    "def add_sum(*a):\n",
    "    result = 0\n",
    "    for num in a: \n",
    "        result += num\n",
    "    return result"
   ]
  },
  {
   "cell_type": "code",
   "execution_count": 19,
   "id": "da507868",
   "metadata": {},
   "outputs": [
    {
     "data": {
      "text/plain": [
       "21"
      ]
     },
     "execution_count": 19,
     "metadata": {},
     "output_type": "execute_result"
    }
   ],
   "source": [
    "add_sum(1, 2, 3, 4, 5, 6)"
   ]
  },
  {
   "cell_type": "code",
   "execution_count": 49,
   "id": "e55c3153",
   "metadata": {},
   "outputs": [],
   "source": [
    "# 같은 함수 아래 모든 수를 더하는 경우와 곱하는 경우 두가지 기능 구현 예시\n",
    "def add_mul(choice, *args):\n",
    "    if choice == \"add\": # 앞 변수에 add 라고 쓰면 모든수를 더한다.\n",
    "        result = 0\n",
    "        for i in args:\n",
    "            result = result + i\n",
    "    elif choice == \"mult\": # 앞 변수에 mult 라고 쓰면 모든수를 곱한다.\n",
    "        # 곱셈에서 초기 변수는 1이다.\n",
    "        result = 1\n",
    "        for i in args:\n",
    "            result = result * i\n",
    "    return result"
   ]
  },
  {
   "cell_type": "code",
   "execution_count": 50,
   "id": "c96caf94",
   "metadata": {},
   "outputs": [
    {
     "name": "stdout",
     "output_type": "stream",
     "text": [
      "15 120\n"
     ]
    }
   ],
   "source": [
    "x = add_mul('add', 1,2,3,4,5)\n",
    "y = add_mul('mult', 1,2,3,4,5)\n",
    "\n",
    "print(x, y)"
   ]
  },
  {
   "cell_type": "code",
   "execution_count": 62,
   "id": "7df0dcaa",
   "metadata": {},
   "outputs": [],
   "source": [
    "def add_mul(choice, *args):\n",
    "    if choice == \"add\": # 앞 변수에 add 라고 쓰면 모든수를 더한다.\n",
    "        result = 0\n",
    "        for i in args:\n",
    "            result = result + i\n",
    "    elif choice == \"mult\": # 앞 변수에 mult 라고 쓰면 모든수를 곱한다.\n",
    "        # 곱셈에서 초기 변수는 1이다.\n",
    "        result = 1\n",
    "        for i in args:\n",
    "            result = result * i\n",
    "            \n",
    "    elif choice == \"div\":\n",
    "        result = 1\n",
    "        for i in args:\n",
    "            result = result / i\n",
    "    return result"
   ]
  },
  {
   "cell_type": "code",
   "execution_count": 65,
   "id": "769ce8f6",
   "metadata": {},
   "outputs": [
    {
     "name": "stdout",
     "output_type": "stream",
     "text": [
      "0.0125\n"
     ]
    }
   ],
   "source": [
    "z = add_mul(\"div\", 20, 4)\n",
    "print(z)"
   ]
  },
  {
   "cell_type": "code",
   "execution_count": 73,
   "id": "86741cac",
   "metadata": {},
   "outputs": [
    {
     "name": "stdout",
     "output_type": "stream",
     "text": [
      "7 12\n",
      "19\n",
      "12\n"
     ]
    }
   ],
   "source": [
    "# 함수에서 여러 결과를 동시에 보이는 법\n",
    "# return 문에서 컴마로 결과 구분해서 입력하면 된다.\n",
    "def sum_and_mul(a, b):\n",
    "    return a+b, a*b\n",
    "\n",
    "# 함수의 여러 결과를 한 변수에 담아버리면 튜플로 받아진다.\n",
    "return4 = sum_and_mul(3, 4)\n",
    "\n",
    "# 결과를 따로 받아서 계산하고 싶다면? 두 변수로 각각 선언\n",
    "zz, kk = sum_and_mul(3, 4)\n",
    "print(zz, kk)\n",
    "print(zz + kk)\n",
    "\n",
    "# 만약에 두 결과물 중 하나를 무시하고 곱셈결과만 출력하고 싶을땐?\n",
    "# _의 의미는 그 변수의 결과물을 무시한다.\n",
    "_, kk = sum_and_mul(3, 4)\n",
    "print(kk)"
   ]
  },
  {
   "cell_type": "code",
   "execution_count": 75,
   "id": "66f716ac",
   "metadata": {},
   "outputs": [
    {
     "name": "stdout",
     "output_type": "stream",
     "text": [
      "7\n"
     ]
    }
   ],
   "source": [
    "# 함수에서는 return 문은 반드시 하나이다.\n",
    "def sum_and_mul(a, b):\n",
    "    return a+b\n",
    "    return a*b # 이 친구는 무시된다.\n",
    "\n",
    "# 결과 무시되는 예시\n",
    "return4 = sum_and_mul(3, 4)\n",
    "print(return4)"
   ]
  },
  {
   "cell_type": "code",
   "execution_count": 77,
   "id": "2ca6dff8",
   "metadata": {},
   "outputs": [],
   "source": [
    "# 딕셔너리 자료구조에서 가변변수인 경우 **arg **사용한다.\n",
    "# a = 1, 영화 = 듄2, 저녁 = 해장국\n",
    "\n",
    "def print_dic(**kwarg):\n",
    "    print(kwarg)"
   ]
  },
  {
   "cell_type": "code",
   "execution_count": 81,
   "id": "9ee565d9",
   "metadata": {},
   "outputs": [
    {
     "name": "stdout",
     "output_type": "stream",
     "text": [
      "{'a': 1, '영화': '듄2', '저녁': '해장국'}\n"
     ]
    }
   ],
   "source": [
    "print_dic(a=1, 영화 = '듄2', 저녁 = '해장국')"
   ]
  },
  {
   "cell_type": "code",
   "execution_count": 82,
   "id": "376ed945",
   "metadata": {},
   "outputs": [],
   "source": [
    "# 함수에서 빈 리턴을 쓰면 함수밖을 나갈 수 있습니다.\n",
    "# \"바보\"를 제외한 인풋에 대해서 지정된 메세지를 출력한다.\n",
    "# 반복문의 bteak 와 유사한 효과를 가진다.\n",
    "def say_hi(person):\n",
    "    if person == \"바보\":\n",
    "        return\n",
    "    print(\"나의 별명은 %s입니다.\" % person)"
   ]
  },
  {
   "cell_type": "code",
   "execution_count": 84,
   "id": "382cee58",
   "metadata": {},
   "outputs": [
    {
     "name": "stdout",
     "output_type": "stream",
     "text": [
      "나의 별명은 ㅁㄴㅇ입니다.\n"
     ]
    }
   ],
   "source": [
    "say_hi(\"ㅁㄴㅇ\")"
   ]
  },
  {
   "cell_type": "markdown",
   "id": "78db196e",
   "metadata": {},
   "source": [
    "리턴값이 없는 함수에서 return으로 함수를 빠져나가는 방법은 실제 프로그래밍에서 자주 사용한다."
   ]
  },
  {
   "cell_type": "markdown",
   "id": "ada789af",
   "metadata": {},
   "source": [
    "함수를 한줄로 표현하고 싶을 때: lambda 예약어"
   ]
  },
  {
   "cell_type": "code",
   "execution_count": 85,
   "id": "5b805331",
   "metadata": {},
   "outputs": [
    {
     "name": "stdout",
     "output_type": "stream",
     "text": [
      "7\n"
     ]
    }
   ],
   "source": [
    "# lambda 예약어의 예시\n",
    "add2 = lambda a, b: a+b\n",
    "result = add2(3,4)\n",
    "print(result)"
   ]
  },
  {
   "cell_type": "code",
   "execution_count": null,
   "id": "94325913",
   "metadata": {},
   "outputs": [],
   "source": [
    "def add2(a, b):\n",
    "    return a+b"
   ]
  },
  {
   "cell_type": "markdown",
   "id": "645661b2",
   "metadata": {},
   "source": [
    "함수_이름 = lambda 매개변수1, 매개변수2, ... : 매개변수를_이용한_표현식\n",
    "\n",
    "\n",
    "lambda로 만든 함수는 return 명령어가 없어도 표현식의 결괏값을 리턴한다.\n",
    "\n",
    "add2는 2개의 인수를 받아 서로 더한 값을 리턴하는 lambda 함수이다. 위 예제는 def를 사용한 위 함수와 하는 일이 완전히 동일하다."
   ]
  },
  {
   "cell_type": "markdown",
   "id": "d7f14671",
   "metadata": {},
   "source": [
    "함수 안에서 사용하는 매개변수는 함수 밖의 변수 이름과는 전혀 상관없다는 뜻이다.\n",
    "\n",
    "다음 예를 보면 더욱 분명하게 이해할 수 있을 것이다."
   ]
  },
  {
   "cell_type": "code",
   "execution_count": 93,
   "id": "ca26ab68",
   "metadata": {},
   "outputs": [
    {
     "name": "stdout",
     "output_type": "stream",
     "text": [
      "7\n"
     ]
    }
   ],
   "source": [
    "# vartest 함수 정의 후 함수 안에 3을 넣어서 a=3으로 인식하도록 시도해 보았다.\n",
    "# 함수 안의 3은 함수 밖의 변수와 관련없다.\n",
    "\n",
    "a = 7\n",
    "def vartest(a):\n",
    "    a = a + 1\n",
    "\n",
    "vartest(3)\n",
    "print(a)"
   ]
  },
  {
   "cell_type": "code",
   "execution_count": 95,
   "id": "4a751ea6",
   "metadata": {},
   "outputs": [
    {
     "name": "stdout",
     "output_type": "stream",
     "text": [
      "7\n"
     ]
    }
   ],
   "source": [
    "def vartest(a):\n",
    "    a = a + 1\n",
    "    return a\n",
    "\n",
    "vartest(3)\n",
    "print(a)"
   ]
  },
  {
   "cell_type": "code",
   "execution_count": null,
   "id": "1cd20877",
   "metadata": {},
   "outputs": [],
   "source": [
    "사용자 입력 활용하기\n",
    "사용자가 입력한 값을 어떤 변수에 대입하고 싶을 때는 어떻게 해야 할까?\n",
    "\n",
    "input 사용하기"
   ]
  },
  {
   "cell_type": "code",
   "execution_count": 96,
   "id": "683f289c",
   "metadata": {},
   "outputs": [
    {
     "name": "stdout",
     "output_type": "stream",
     "text": [
      "5일차네요\n"
     ]
    }
   ],
   "source": [
    "# input 함수를 이용해서 유저에게 \"5일차네요\" 라는 입력을 받으면\n",
    "# 그 입력 데이터는 a 라는 변수에 저장 됩니다.\n",
    "a = input()"
   ]
  },
  {
   "cell_type": "code",
   "execution_count": 98,
   "id": "e1df4662",
   "metadata": {},
   "outputs": [
    {
     "data": {
      "text/plain": [
       "'5일차네요'"
      ]
     },
     "execution_count": 98,
     "metadata": {},
     "output_type": "execute_result"
    }
   ],
   "source": [
    "# 변수에 데이터를 저장 후 a를 불렀더니 저장된 메세지가 나온 것을 보셨습니다.\n",
    "a"
   ]
  },
  {
   "cell_type": "code",
   "execution_count": null,
   "id": "db21c05d",
   "metadata": {},
   "outputs": [],
   "source": [
    "input은 사용자가 키보드로 입력한 모든 것을 문자열로 저장한다."
   ]
  },
  {
   "cell_type": "code",
   "execution_count": 101,
   "id": "da44d048",
   "metadata": {},
   "outputs": [
    {
     "name": "stdout",
     "output_type": "stream",
     "text": [
      "정수를 입력하세요.6\n"
     ]
    }
   ],
   "source": [
    "# 유저에게 정수 데이터를 받으려면 int() 로 감싸야 합니다.\n",
    "# int()로 감싸야 문자열 데이터가 정수형 데이터로 바뀝니다.\n",
    "aa = int(input(\"정수를 입력하세요.\"))"
   ]
  },
  {
   "cell_type": "code",
   "execution_count": 103,
   "id": "0a64be1a",
   "metadata": {},
   "outputs": [
    {
     "data": {
      "text/plain": [
       "9"
      ]
     },
     "execution_count": 103,
     "metadata": {},
     "output_type": "execute_result"
    }
   ],
   "source": [
    "# 별다른 조치없이 입력된 정수에 3을 더하려는 경우\n",
    "y = aa + 3\n",
    "y"
   ]
  },
  {
   "cell_type": "code",
   "execution_count": 104,
   "id": "ad5b9422",
   "metadata": {},
   "outputs": [],
   "source": [
    "# 파이썬에서 파일을 생성하는 법\n",
    "# 2024풀스택.txt 파일을  생성해서 파일을 엽니다. w옵션은 쓰기가 가능하다는 옵션\n",
    "file = open(\"2024풀스택.txt\", \"r\")\n",
    "file.write(\"안녕하세요 여러분\") # 만든 파일 안에 메세지를 입력합니다.\n",
    "file.close() # 메세지 입력 후 파일 닫음"
   ]
  },
  {
   "cell_type": "code",
   "execution_count": 109,
   "id": "e6b228d9",
   "metadata": {},
   "outputs": [],
   "source": [
    "# 경로를 설정하면 원하는 경로에 파일 생성 가능\n",
    "\n",
    "f = open(\"C:/Users/EZEN-14/Downloads/새로운파일.txt\", \"w\")\n",
    "f.close()\n",
    "\n",
    "# f.close()는 쓰기모드일 때 반드시 포함되어야 한다. 읽기전용이면\n",
    "# 안해도 되는데 그냥 닫아주자."
   ]
  },
  {
   "cell_type": "code",
   "execution_count": 114,
   "id": "3ed855bb",
   "metadata": {},
   "outputs": [],
   "source": [
    "# for 문을 써서 1번째줄 ~~ 11번째 줄입니다.\n",
    "# ./ 의 의미는 현재폴더라는 뜻입니다.\n",
    "\n",
    "# 방금 위 코드를 살짝 바꿔서 12번째 줄입니다 ~  23번째 줄이다를방금 붙여서 문서파일을 업뎃해주세요.\n",
    "# a 옵션으로 추가 모드 설정이 되도록 수정 할 것.\n",
    "\n",
    "f = open(\"./출력예제1.txt\", \"w\")\n",
    "for i in range(1, 12):\n",
    "    # \\n의 의미는 각 문장 출력 후 한줄 띄워서 출력\n",
    "    data = \"%d 번째 줄입니다. \\n\" % i\n",
    "    f.write(data)\n",
    "    \n",
    "f = open(\"./출력예제1.txt\", \"a\")\n",
    "for j in range(12, 24):\n",
    "    data2 = \"%d 번째 줄입니다. \\n\" % j\n",
    "    f.write(data2)\n",
    "    \n",
    "f.close()"
   ]
  },
  {
   "cell_type": "markdown",
   "id": "330b763a",
   "metadata": {},
   "source": [
    "while True: 무한 루프 안에서 f.readline()을 사용해 파일을 계속 한 줄씩 읽어 들인다. \n",
    "\n",
    "만약 더 이상 읽을 줄이 없으면 break를 수행한다.(readline()은 더이상 읽을줄이 없을 경우, 빈 문자열(\"\")을 리턴한다.)"
   ]
  },
  {
   "cell_type": "code",
   "execution_count": 116,
   "id": "c8a672ce",
   "metadata": {},
   "outputs": [
    {
     "name": "stdout",
     "output_type": "stream",
     "text": [
      "1 번째 줄입니다. \n",
      "\n",
      "2 번째 줄입니다. \n",
      "\n",
      "3 번째 줄입니다. \n",
      "\n",
      "4 번째 줄입니다. \n",
      "\n",
      "5 번째 줄입니다. \n",
      "\n",
      "6 번째 줄입니다. \n",
      "\n",
      "7 번째 줄입니다. \n",
      "\n",
      "8 번째 줄입니다. \n",
      "\n",
      "9 번째 줄입니다. \n",
      "\n",
      "10 번째 줄입니다. \n",
      "\n",
      "11 번째 줄입니다. \n",
      "\n",
      "12 번째 줄입니다. \n",
      "\n",
      "13 번째 줄입니다. \n",
      "\n",
      "14 번째 줄입니다. \n",
      "\n",
      "15 번째 줄입니다. \n",
      "\n",
      "16 번째 줄입니다. \n",
      "\n",
      "17 번째 줄입니다. \n",
      "\n",
      "18 번째 줄입니다. \n",
      "\n",
      "19 번째 줄입니다. \n",
      "\n",
      "20 번째 줄입니다. \n",
      "\n",
      "21 번째 줄입니다. \n",
      "\n",
      "22 번째 줄입니다. \n",
      "\n",
      "23 번째 줄입니다. \n",
      "\n"
     ]
    }
   ],
   "source": [
    "f = open(\"./출력예제1.txt\", \"r\")\n",
    "while True:\n",
    "    line = f.readline() # 파일 내용을 한줄씩 읽습니다.\n",
    "    if not line: # 파일에 내용이 더이상 없는 경우\n",
    "        break\n",
    "    print(line)\n",
    "    \n",
    "f.close()"
   ]
  },
  {
   "cell_type": "code",
   "execution_count": 117,
   "id": "d647183f",
   "metadata": {},
   "outputs": [],
   "source": [
    "# 지금까지의 방식\n",
    "# f = open('./foo.txt', 'w')\n",
    "# f.write('you need python')\n",
    "# f.close"
   ]
  },
  {
   "cell_type": "markdown",
   "id": "449c58d4",
   "metadata": {},
   "source": [
    "파일을 열면(open) 항상 닫아(close) 주어야 한다. 이렇게 파일을 열고 닫는 것을 자동으로 처리하고 싶다면? 파이썬의 with 문이 바로 이런 역할을 해준다. 다음 예는 with 문을 사용해서 위 예제를 다시 작성한 모습이다."
   ]
  },
  {
   "cell_type": "code",
   "execution_count": 118,
   "id": "0f43f342",
   "metadata": {},
   "outputs": [],
   "source": [
    "with open('./foo.txt', 'w') as f:\n",
    "    f.write('you need python')"
   ]
  },
  {
   "cell_type": "code",
   "execution_count": 138,
   "id": "fd42c8c7",
   "metadata": {},
   "outputs": [
    {
     "name": "stdout",
     "output_type": "stream",
     "text": [
      "입력값 1: 6\n",
      "입력값 2: 7\n",
      "13\n"
     ]
    }
   ],
   "source": [
    "# 아래 코드르 바꿔서 sum_tot라는 함수를 만들어서\n",
    "# print(sum_tot(input1, input2)) --> 13 나오게 함수만들어 주세요\n",
    "\n",
    "input1 = int(input(\"입력값 1: \"))\n",
    "input2 = int(input(\"입력값 2: \"))\n",
    "\n",
    "# x = input1 + input2\n",
    "# print(x)\n",
    "\n",
    "def sum_tot(input1, input2):\n",
    "    x = input1 + input2\n",
    "    return x\n",
    "print(sum_tot(input1, input2))"
   ]
  },
  {
   "cell_type": "markdown",
   "id": "c9233981",
   "metadata": {},
   "source": [
    "클래스: 함수의 재사용으로 충분한가?"
   ]
  },
  {
   "cell_type": "code",
   "execution_count": 139,
   "id": "daf89412",
   "metadata": {},
   "outputs": [
    {
     "name": "stdout",
     "output_type": "stream",
     "text": [
      "3\n",
      "7\n"
     ]
    }
   ],
   "source": [
    "# 입력 받은 수를 누적하는 계산기 예제\n",
    "result = 0\n",
    "def add11(num):\n",
    "    # 함수 밖에서도 result 변수가 인식 되도록 global 명령어 사용\n",
    "    global result \n",
    "    result = result + num\n",
    "    return result\n",
    "\n",
    "print(add11(3))\n",
    "print(add11(4))"
   ]
  },
  {
   "cell_type": "code",
   "execution_count": 143,
   "id": "3d296d3f",
   "metadata": {},
   "outputs": [
    {
     "name": "stdout",
     "output_type": "stream",
     "text": [
      "3\n",
      "7\n",
      "6\n",
      "17\n"
     ]
    }
   ],
   "source": [
    "# 위 예제에서 독립된 2개의 누적합이 필요하다면?\n",
    "# 계산기 함수가 2개 필요하다.\n",
    "result1 = 0\n",
    "result2 = 0\n",
    "\n",
    "def add11(num):\n",
    "    global result1 \n",
    "    result1 = result1 + num\n",
    "    return result1\n",
    "\n",
    "def add12(num):\n",
    "    global result2\n",
    "    result2 = result2 + num\n",
    "    \n",
    "    result2 + num\n",
    "    return result2\n",
    "\n",
    "print(add11(3))\n",
    "print(add11(4))\n",
    "print(add12(6))\n",
    "print(add12(11))"
   ]
  },
  {
   "cell_type": "code",
   "execution_count": 149,
   "id": "a648e3c0",
   "metadata": {},
   "outputs": [],
   "source": [
    "# 클래스를 이용해서 독립된 누적합 6개 처리하기\n",
    "class Calculator:\n",
    "    def __init__(self): #클래스 실행 시 무조건 실행되는 블럭 = 생성자\n",
    "        # 초기값이 0이라고 클래스 생성시 무조건 선언\n",
    "        self.result = 0\n",
    "    \n",
    "    def add11(self, num): # 클래스 내부 더하기 함수\n",
    "        self.result = self.result + num # 입력값 누적 더하기\n",
    "        return self.result\n",
    "\n",
    "cal1 = Calculator() # 클래스를 실행해서 cal1 이라는 객체 생성\n",
    "cal2 = Calculator() # 클래스를 실행해서 cal2 이라는 객체 생성\n",
    "cal3 = Calculator() # 클래스를 실행해서 cal3 이라는 객체 생성\n",
    "cal4 = Calculator() # 클래스를 실행해서 cal4 이라는 객체 생성\n",
    "cal5 = Calculator() # 클래스를 실행해서 cal5 이라는 객체 생성\n",
    "cal6 = Calculator() # 클래스를 실행해서 cal6 이라는 객체 생성"
   ]
  },
  {
   "cell_type": "code",
   "execution_count": 152,
   "id": "6a1286f5",
   "metadata": {},
   "outputs": [
    {
     "name": "stdout",
     "output_type": "stream",
     "text": [
      "19\n",
      "23\n",
      "20\n",
      "31\n",
      "8\n",
      "20\n",
      "2\n",
      "24\n",
      "99\n",
      "1098\n",
      "111\n",
      "1222\n"
     ]
    }
   ],
   "source": [
    "print(cal1.add11(3))\n",
    "print(cal1.add11(4))\n",
    "print(cal2.add11(1))\n",
    "print(cal2.add11(11))\n",
    "print(cal3.add11(8))\n",
    "print(cal3.add11(12))\n",
    "print(cal4.add11(2))\n",
    "print(cal4.add11(22))\n",
    "print(cal5.add11(99))\n",
    "print(cal5.add11(999))\n",
    "print(cal6.add11(111))\n",
    "print(cal6.add11(1111))"
   ]
  },
  {
   "cell_type": "code",
   "execution_count": 154,
   "id": "c28942cb",
   "metadata": {},
   "outputs": [],
   "source": [
    "# 클래스는 코드정리에 용이합니다.\n",
    "# 아까 클래스에서 빼기 기능 하는 함수 추가\n",
    "\n",
    "class Calculator:\n",
    "    def __init__(self): #클래스 실행 시 무조건 실행되는 블럭 = 생성자\n",
    "        # 초기값이 0이라고 클래스 생성시 무조건 선언\n",
    "        self.result = 0\n",
    "    \n",
    "    def add11(self, num): # 클래스 내부 더하기 함수\n",
    "        self.result = self.result + num # 입력값 누적 더하기\n",
    "        return self.result\n",
    "    \n",
    "    def sub11(self, num): # 클래스 내부 빼기 함수\n",
    "        self.result = self.result - num # 입력값 누적 빼기\n",
    "        return self.result"
   ]
  },
  {
   "cell_type": "code",
   "execution_count": 156,
   "id": "b9d53a35",
   "metadata": {},
   "outputs": [
    {
     "name": "stdout",
     "output_type": "stream",
     "text": [
      "3\n",
      "7\n",
      "5\n"
     ]
    }
   ],
   "source": [
    "cal1 = Calculator() # 클래스를 실행해서 cal1이라는 객체 생성\n",
    "print(cal1.add11(3))\n",
    "print(cal1.add11(4))\n",
    "print(cal1.sub11(2))"
   ]
  },
  {
   "cell_type": "markdown",
   "id": "d2b44a51",
   "metadata": {},
   "source": [
    "클래스 = 설계도면입니다. 설계도에 맞는 \"객체\" 라는 이름의 제품이 나옵니다.\n",
    "\n",
    "설계 도면과 그 작품이 나오니까 작품마다 고유한 성격이 나와도 설계도 대로 나오는 것입니다.\n",
    "\n",
    "객체는 서로 고유합니다. (독립적이다)"
   ]
  },
  {
   "cell_type": "markdown",
   "id": "773717ad",
   "metadata": {},
   "source": [
    "클래스로 만든 객체를 '인스턴스'(instance) 라고 합니다."
   ]
  },
  {
   "cell_type": "code",
   "execution_count": null,
   "id": "c9ad33b1",
   "metadata": {},
   "outputs": [],
   "source": [
    "\"\"\"\n",
    "# 클래스 사용 방법은\n",
    "1. 클래스를 선언하고 생성자를 사용하여 초기 조건을 지정한다.\n",
    "2. 클래스 내부에 하위 함수를 구현하여 사용하고 싶은 함수를 만든다.\n",
    "3. 만든 클래스를 호출하여 지정한 변수에 부여하여 객체를 형성한다.\n",
    "4. 생성된 객체는 자유롭게 하위 함수를 호출하여 원하는 작업을 한다.\n",
    "\"\"\""
   ]
  },
  {
   "cell_type": "code",
   "execution_count": 161,
   "id": "1f4d6b63",
   "metadata": {},
   "outputs": [
    {
     "name": "stdout",
     "output_type": "stream",
     "text": [
      "파란색 세단(이)가 출발합니다. 시속 100입니다\n",
      "주황색 SUV(이)가 출발합니다. 시속 150입니다\n"
     ]
    }
   ],
   "source": [
    "class Car:\n",
    "    def __init__(self, model, color, speed):\n",
    "        self.model = model\n",
    "        self.color = color\n",
    "        self.speed = speed\n",
    "        \n",
    "    def start(self):\n",
    "        print(\"%s %s(이)가 출발합니다. 시속 %d입니다\" % (self.color, self.model, self.speed))\n",
    "        \n",
    "car1 = Car(\"세단\", \"파란색\", 100)\n",
    "car2 = Car(\"SUV\", \"주황색\", 150)\n",
    "car1.start()\n",
    "car2.start()\n",
    "        "
   ]
  },
  {
   "cell_type": "code",
   "execution_count": 169,
   "id": "ebbdc409",
   "metadata": {},
   "outputs": [
    {
     "name": "stdout",
     "output_type": "stream",
     "text": [
      "안녕, 나는 정훈이고 30살이야\n",
      "안녕, 나는 고은이고 32살이야\n"
     ]
    }
   ],
   "source": [
    "# 사람 이름과 나이를 받으면 출력하는 클래스 예제\n",
    "# 클래스 선언할 때 클래스 구분을 위해서 첫글자 대문자인 경향이 있다.\n",
    "class Person:\n",
    "    def __init__(self, name, age):\n",
    "        self.name = name # 이 클래스의 name 변수는 name자리 인풋으로 받는다.\n",
    "        self.age = age\n",
    "    \n",
    "    def greet(self): #self는 클래스로부터 인풋을 받는단 이야기\n",
    "        print(\"안녕, 나는 %s이고 %d살이야\" % (self.name, self.age))\n",
    "        \n",
    "person1 = Person(\"정훈\", 30)\n",
    "person2 = Person(\"고은\", 32)\n",
    "person1.greet()\n",
    "person2.greet()"
   ]
  },
  {
   "cell_type": "code",
   "execution_count": null,
   "id": "70705bc7",
   "metadata": {},
   "outputs": [],
   "source": []
  },
  {
   "cell_type": "code",
   "execution_count": null,
   "id": "4fbba1d2",
   "metadata": {},
   "outputs": [],
   "source": []
  },
  {
   "cell_type": "code",
   "execution_count": null,
   "id": "e518d42b",
   "metadata": {},
   "outputs": [],
   "source": []
  },
  {
   "cell_type": "code",
   "execution_count": null,
   "id": "3d24d921",
   "metadata": {},
   "outputs": [],
   "source": []
  },
  {
   "cell_type": "code",
   "execution_count": null,
   "id": "d4bb5bdd",
   "metadata": {},
   "outputs": [],
   "source": []
  },
  {
   "cell_type": "code",
   "execution_count": null,
   "id": "8cdce919",
   "metadata": {},
   "outputs": [],
   "source": []
  },
  {
   "cell_type": "code",
   "execution_count": null,
   "id": "05ca5ee1",
   "metadata": {},
   "outputs": [],
   "source": []
  },
  {
   "cell_type": "code",
   "execution_count": null,
   "id": "42c3416f",
   "metadata": {},
   "outputs": [],
   "source": []
  }
 ],
 "metadata": {
  "kernelspec": {
   "display_name": "Python 3 (ipykernel)",
   "language": "python",
   "name": "python3"
  },
  "language_info": {
   "codemirror_mode": {
    "name": "ipython",
    "version": 3
   },
   "file_extension": ".py",
   "mimetype": "text/x-python",
   "name": "python",
   "nbconvert_exporter": "python",
   "pygments_lexer": "ipython3",
   "version": "3.11.5"
  }
 },
 "nbformat": 4,
 "nbformat_minor": 5
}
